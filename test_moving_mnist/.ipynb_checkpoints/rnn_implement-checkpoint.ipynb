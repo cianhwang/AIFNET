{
 "cells": [
  {
   "cell_type": "code",
   "execution_count": 1,
   "metadata": {},
   "outputs": [
    {
     "name": "stderr",
     "output_type": "stream",
     "text": [
      "Using TensorFlow backend.\n"
     ]
    }
   ],
   "source": [
    "from keras.models import Sequential\n",
    "from keras.layers import ConvLSTM2D, BatchNormalization, Conv2D\n",
    "import keras\n",
    "import numpy as np\n",
    "import matplotlib.pyplot as plt\n",
    "%matplotlib inline"
   ]
  },
  {
   "cell_type": "code",
   "execution_count": 2,
   "metadata": {},
   "outputs": [],
   "source": [
    "# # Artificial data generation:\n",
    "# # Generate movies with 3 to 7 moving squares inside.\n",
    "# # The squares are of shape 1x1 or 2x2 pixels,\n",
    "# # which move linearly over time.\n",
    "# # For convenience we first create movies with bigger width and height (80x80)\n",
    "# # and at the end we select a 40x40 window.\n",
    "\n",
    "# def generate_movies(n_samples=1200, n_frames=15):\n",
    "#     row = 40\n",
    "#     col = 40\n",
    "#     noisy_movies = np.zeros((n_samples, n_frames, row, col, 1), dtype=np.float)\n",
    "#     shifted_movies = np.zeros((n_samples, n_frames, row, col, 1),\n",
    "#                               dtype=np.float)\n",
    "\n",
    "#     for i in range(n_samples):\n",
    "#         # Add 3 to 7 moving squares\n",
    "#         n = np.random.randint(2, 4)\n",
    "\n",
    "#         for j in range(n):\n",
    "#             # Initial position\n",
    "#             xstart = np.random.randint(10, 30)\n",
    "#             ystart = np.random.randint(10, 30)\n",
    "#             # Direction of motion\n",
    "#             directionx = np.random.randint(0, 3) - 1\n",
    "#             directiony = np.random.randint(0, 3) - 1\n",
    "\n",
    "#             # Size of the square\n",
    "#             w = np.random.randint(1, 3)\n",
    "\n",
    "#             for t in range(n_frames):\n",
    "#                 x_shift = xstart + directionx * t\n",
    "#                 y_shift = ystart + directiony * t\n",
    "#                 noisy_movies[i, t, x_shift - w: x_shift + w,\n",
    "#                              y_shift - w: y_shift + w, 0] += 1\n",
    "\n",
    "#                 # Make it more robust by adding noise.\n",
    "#                 # The idea is that if during inference,\n",
    "#                 # the value of the pixel is not exactly one,\n",
    "#                 # we need to train the network to be robust and still\n",
    "#                 # consider it as a pixel belonging to a square.\n",
    "#                 if np.random.randint(0, 2):\n",
    "#                     noise_f = 0#(-1)**np.random.randint(0, 2)\n",
    "#                     noisy_movies[i, t,\n",
    "#                                  x_shift - w - 1: x_shift + w + 1,\n",
    "#                                  y_shift - w - 1: y_shift + w + 1,\n",
    "#                                  0] += noise_f * 0.1\n",
    "\n",
    "#                 # Shift the ground truth by 1\n",
    "#                 x_shift = xstart + directionx * (t + 1)\n",
    "#                 y_shift = ystart + directiony * (t + 1)\n",
    "#                 shifted_movies[i, t, x_shift - w: x_shift + w,\n",
    "#                                y_shift - w: y_shift + w, 0] += 1\n",
    "\n",
    "#     # Cut to a 40x40 window\n",
    "#     noisy_movies = noisy_movies[::, ::, 10:30, 10:30, ::]\n",
    "#     shifted_movies = shifted_movies[::, ::, 10:30, 10:30, ::]\n",
    "#     noisy_movies[noisy_movies >= 1] = 1\n",
    "#     shifted_movies[shifted_movies >= 1] = 1\n",
    "#     return noisy_movies, shifted_movies"
   ]
  },
  {
   "cell_type": "code",
   "execution_count": 55,
   "metadata": {},
   "outputs": [],
   "source": [
    "# movies, shifted_movies = generate_movies(n_samples=1200)\n",
    "a = np.load('mnist_test_seq.npy')\n",
    "a = np.swapaxes(a, 0, 1)\n",
    "movies = a[:1200, :, ::2, ::2, np.newaxis]/255\n",
    "del a"
   ]
  },
  {
   "cell_type": "code",
   "execution_count": 57,
   "metadata": {},
   "outputs": [
    {
     "name": "stdout",
     "output_type": "stream",
     "text": [
      "_________________________________________________________________\n",
      "Layer (type)                 Output Shape              Param #   \n",
      "=================================================================\n",
      "conv_lst_m2d_9 (ConvLSTM2D)  (None, None, 32, 32, 32)  105728    \n",
      "_________________________________________________________________\n",
      "batch_normalization_9 (Batch (None, None, 32, 32, 32)  128       \n",
      "_________________________________________________________________\n",
      "conv_lst_m2d_10 (ConvLSTM2D) (None, 32, 32, 64)        614656    \n",
      "_________________________________________________________________\n",
      "batch_normalization_10 (Batc (None, 32, 32, 64)        256       \n",
      "_________________________________________________________________\n",
      "conv2d_5 (Conv2D)            (None, 32, 32, 1)         1601      \n",
      "=================================================================\n",
      "Total params: 722,369\n",
      "Trainable params: 722,177\n",
      "Non-trainable params: 192\n",
      "_________________________________________________________________\n"
     ]
    }
   ],
   "source": [
    "seq = Sequential()\n",
    "seq.add(ConvLSTM2D(filters=32, kernel_size=(5, 5),\n",
    "                   input_shape=(None, 32, 32, 1),\n",
    "                   padding='same', return_sequences=True))\n",
    "seq.add(BatchNormalization())\n",
    "seq.add(ConvLSTM2D(filters=64, kernel_size=(5, 5),\n",
    "                   padding='same'))\n",
    "seq.add(BatchNormalization())\n",
    "seq.add(Conv2D(filters=1, kernel_size=(5, 5), activation='sigmoid',\n",
    "                   padding='same'))\n",
    "seq.summary()"
   ]
  },
  {
   "cell_type": "code",
   "execution_count": 58,
   "metadata": {},
   "outputs": [],
   "source": [
    "seq.compile(loss='mse', optimizer=keras.optimizers.RMSprop(lr=0.001, rho=0.9, epsilon=None, decay=0.0))"
   ]
  },
  {
   "cell_type": "code",
   "execution_count": 59,
   "metadata": {},
   "outputs": [
    {
     "name": "stdout",
     "output_type": "stream",
     "text": [
      "Train on 950 samples, validate on 50 samples\n",
      "Epoch 1/5\n",
      "950/950 [==============================] - 38s 40ms/step - loss: 0.0624 - val_loss: 0.0213\n",
      "Epoch 2/5\n",
      "950/950 [==============================] - 36s 38ms/step - loss: 0.0211 - val_loss: 0.0196\n",
      "Epoch 3/5\n",
      "950/950 [==============================] - 36s 38ms/step - loss: 0.0187 - val_loss: 0.0179\n",
      "Epoch 4/5\n",
      "950/950 [==============================] - 36s 38ms/step - loss: 0.0177 - val_loss: 0.0163\n",
      "Epoch 5/5\n",
      "950/950 [==============================] - 36s 38ms/step - loss: 0.0167 - val_loss: 0.0165\n"
     ]
    },
    {
     "data": {
      "text/plain": [
       "<keras.callbacks.History at 0x7fbf812aef28>"
      ]
     },
     "execution_count": 59,
     "metadata": {},
     "output_type": "execute_result"
    }
   ],
   "source": [
    "seq.fit(movies[:1000, :10], movies[:1000, 10], batch_size=10,\n",
    "        epochs=5, validation_split=0.05)   "
   ]
  },
  {
   "cell_type": "code",
   "execution_count": 76,
   "metadata": {},
   "outputs": [],
   "source": [
    "a = seq.predict(movies[1000:1020, :10, :, :, :])"
   ]
  },
  {
   "cell_type": "code",
   "execution_count": 74,
   "metadata": {},
   "outputs": [
    {
     "data": {
      "text/plain": [
       "<matplotlib.image.AxesImage at 0x7fbf51a34128>"
      ]
     },
     "execution_count": 74,
     "metadata": {},
     "output_type": "execute_result"
    },
    {
     "data": {
      "image/png": "[encoded data removed]",
      "text/plain": [
       "<Figure size 432x288 with 1 Axes>"
      ]
     },
     "metadata": {
      "needs_background": "light"
     },
     "output_type": "display_data"
    }
   ],
   "source": [
    "plt.imshow(movies[1000, 8, :, :, 0])"
   ]
  },
  {
   "cell_type": "code",
   "execution_count": 75,
   "metadata": {},
   "outputs": [
    {
     "data": {
      "text/plain": [
       "<matplotlib.image.AxesImage at 0x7fbf51990668>"
      ]
     },
     "execution_count": 75,
     "metadata": {},
     "output_type": "execute_result"
    },
    {
     "data": {
      "image/png": "[encoded data removed]",
      "text/plain": [
       "<Figure size 432x288 with 1 Axes>"
      ]
     },
     "metadata": {
      "needs_background": "light"
     },
     "output_type": "display_data"
    }
   ],
   "source": [
    "plt.imshow(a[0, :, :, 0])"
   ]
  },
  {
   "cell_type": "code",
   "execution_count": 79,
   "metadata": {},
   "outputs": [
    {
     "data": {
      "image/png": "[encoded data removed]",
      "text/plain": [
       "<Figure size 720x360 with 5 Axes>"
      ]
     },
     "metadata": {
      "needs_background": "light"
     },
     "output_type": "display_data"
    },
    {
     "data": {
      "image/png": "[encoded data removed]",
      "text/plain": [
       "<Figure size 720x360 with 5 Axes>"
      ]
     },
     "metadata": {
      "needs_background": "light"
     },
     "output_type": "display_data"
    },
    {
     "data": {
      "image/png": "[encoded data removed]",
      "text/plain": [
       "<Figure size 720x360 with 5 Axes>"
      ]
     },
     "metadata": {
      "needs_background": "light"
     },
     "output_type": "display_data"
    },
    {
     "data": {
      "image/png": "[encoded data removed]",
      "text/plain": [
       "<Figure size 720x360 with 5 Axes>"
      ]
     },
     "metadata": {
      "needs_background": "light"
     },
     "output_type": "display_data"
    },
    {
     "data": {
      "image/png": "[encoded data removed]",
      "text/plain": [
       "<Figure size 720x360 with 5 Axes>"
      ]
     },
     "metadata": {
      "needs_background": "light"
     },
     "output_type": "display_data"
    }
   ],
   "source": [
    "for i in range(5):\n",
    "    fig = plt.figure(figsize=(10, 5))\n",
    "    ax = fig.add_subplot(151)\n",
    "    plt.imshow(movies[1000+i, 7, :, :, 0])\n",
    "    ax = fig.add_subplot(152)\n",
    "    plt.imshow(movies[1000+i, 8, :, :, 0])\n",
    "    ax = fig.add_subplot(153)\n",
    "    plt.imshow(movies[1000+i, 9, :, :, 0])\n",
    "    ax = fig.add_subplot(154)\n",
    "    plt.imshow(movies[1000+i, 10, :, :, 0])\n",
    "    ax = fig.add_subplot(155)\n",
    "    plt.imshow(a[i, :, :, 0])\n"
   ]
  },
  {
   "cell_type": "code",
   "execution_count": null,
   "metadata": {},
   "outputs": [],
   "source": []
  }
 ],
 "metadata": {
  "kernelspec": {
   "display_name": "Python 3",
   "language": "python",
   "name": "python3"
  },
  "language_info": {
   "codemirror_mode": {
    "name": "ipython",
    "version": 3
   },
   "file_extension": ".py",
   "mimetype": "text/x-python",
   "name": "python",
   "nbconvert_exporter": "python",
   "pygments_lexer": "ipython3",
   "version": "3.6.8"
  }
 },
 "nbformat": 4,
 "nbformat_minor": 2
}
