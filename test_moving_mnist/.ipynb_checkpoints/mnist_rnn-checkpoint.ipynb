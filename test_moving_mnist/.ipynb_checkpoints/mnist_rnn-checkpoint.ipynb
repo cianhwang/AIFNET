{
 "cells": [
  {
   "cell_type": "code",
   "execution_count": 1,
   "metadata": {},
   "outputs": [
    {
     "name": "stderr",
     "output_type": "stream",
     "text": [
      "Using TensorFlow backend.\n"
     ]
    },
    {
     "name": "stdout",
     "output_type": "stream",
     "text": [
      "Using Keras version: 2.2.4 backend: tensorflow\n"
     ]
    }
   ],
   "source": [
    "%matplotlib inline\n",
    "\n",
    "from keras.models import Sequential\n",
    "from keras.layers import Dense, Activation, Dropout\n",
    "from keras.layers.recurrent import SimpleRNN, LSTM, GRU \n",
    "from keras.utils import np_utils\n",
    "from keras import backend as K\n",
    "\n",
    "from distutils.version import LooseVersion as LV\n",
    "from keras import __version__\n",
    "\n",
    "from IPython.display import SVG\n",
    "from keras.utils.vis_utils import model_to_dot\n",
    "\n",
    "import numpy as np\n",
    "import matplotlib.pyplot as plt\n",
    "\n",
    "print('Using Keras version:', __version__, 'backend:', K.backend())\n",
    "assert(LV(__version__) >= LV(\"2.0.0\"))"
   ]
  },
  {
   "cell_type": "code",
   "execution_count": 2,
   "metadata": {},
   "outputs": [
    {
     "name": "stdout",
     "output_type": "stream",
     "text": [
      "\n",
      "MNIST data loaded: train: 60000 test: 10000\n",
      "X_train: (60000, 28, 28)\n",
      "y_train: (60000,)\n",
      "Y_train: (60000, 10)\n"
     ]
    }
   ],
   "source": [
    "from keras.datasets import mnist\n",
    "(X_train, y_train), (X_test, y_test) = mnist.load_data()\n",
    "nb_classes = 10\n",
    "img_rows, img_cols = 28, 28\n",
    "\n",
    "X_train = X_train.astype('float32')\n",
    "X_test = X_test.astype('float32')\n",
    "X_train /= 255\n",
    "X_test /= 255\n",
    "\n",
    "# one-hot encoding:\n",
    "Y_train = np_utils.to_categorical(y_train, nb_classes)\n",
    "Y_test = np_utils.to_categorical(y_test, nb_classes)\n",
    "\n",
    "print()\n",
    "print('MNIST data loaded: train:',len(X_train),'test:',len(X_test))\n",
    "print('X_train:', X_train.shape)\n",
    "print('y_train:', y_train.shape)\n",
    "print('Y_train:', Y_train.shape)"
   ]
  },
  {
   "cell_type": "code",
   "execution_count": 3,
   "metadata": {},
   "outputs": [
    {
     "name": "stdout",
     "output_type": "stream",
     "text": [
      "WARNING:tensorflow:From /home/qian/anaconda3/envs/tensorflow/lib/python3.6/site-packages/tensorflow/python/framework/op_def_library.py:263: colocate_with (from tensorflow.python.framework.ops) is deprecated and will be removed in a future version.\n",
      "Instructions for updating:\n",
      "Colocations handled automatically by placer.\n",
      "_________________________________________________________________\n",
      "Layer (type)                 Output Shape              Param #   \n",
      "=================================================================\n",
      "simple_rnn_1 (SimpleRNN)     (None, 50)                3950      \n",
      "_________________________________________________________________\n",
      "dense_1 (Dense)              (None, 10)                510       \n",
      "_________________________________________________________________\n",
      "activation_1 (Activation)    (None, 10)                0         \n",
      "=================================================================\n",
      "Total params: 4,460\n",
      "Trainable params: 4,460\n",
      "Non-trainable params: 0\n",
      "_________________________________________________________________\n",
      "None\n"
     ]
    }
   ],
   "source": [
    "# Number of hidden units to use:\n",
    "nb_units = 50\n",
    "\n",
    "model = Sequential()\n",
    "\n",
    "# Recurrent layers supported: SimpleRNN, LSTM, GRU:\n",
    "model.add(SimpleRNN(nb_units,\n",
    "                    input_shape=(img_rows, img_cols)))\n",
    "\n",
    "# To stack multiple RNN layers, all RNN layers except the last one need\n",
    "# to have \"return_sequences=True\".  An example of using two RNN layers:\n",
    "#model.add(SimpleRNN(16,\n",
    "#                    input_shape=(img_rows, img_cols),\n",
    "#                    return_sequences=True))\n",
    "#model.add(SimpleRNN(32))\n",
    "\n",
    "model.add(Dense(units=nb_classes))\n",
    "model.add(Activation('softmax'))\n",
    "\n",
    "model.compile(loss='categorical_crossentropy',\n",
    "              optimizer='adam',\n",
    "              metrics=['accuracy'])\n",
    "\n",
    "print(model.summary())"
   ]
  },
  {
   "cell_type": "code",
   "execution_count": 4,
   "metadata": {},
   "outputs": [
    {
     "data": {
      "image/svg+xml": [
       "<svg height=\"294pt\" viewBox=\"0.00 0.00 327.00 294.00\" width=\"327pt\" xmlns=\"http://www.w3.org/2000/svg\" xmlns:xlink=\"http://www.w3.org/1999/xlink\">\n",
       "<g class=\"graph\" id=\"graph0\" transform=\"scale(1 1) rotate(0) translate(4 290)\">\n",
       "<title>G</title>\n",
       "<polygon fill=\"#ffffff\" points=\"-4,4 -4,-290 323,-290 323,4 -4,4\" stroke=\"transparent\"/>\n",
       "<!-- 140001201379144 -->\n",
       "<g class=\"node\" id=\"node1\">\n",
       "<title>140001201379144</title>\n",
       "<polygon fill=\"none\" points=\"0,-166.5 0,-212.5 319,-212.5 319,-166.5 0,-166.5\" stroke=\"#000000\"/>\n",
       "<text fill=\"#000000\" font-family=\"Times,serif\" font-size=\"14.00\" text-anchor=\"middle\" x=\"83.5\" y=\"-185.8\">simple_rnn_1: SimpleRNN</text>\n",
       "<polyline fill=\"none\" points=\"167,-166.5 167,-212.5 \" stroke=\"#000000\"/>\n",
       "<text fill=\"#000000\" font-family=\"Times,serif\" font-size=\"14.00\" text-anchor=\"middle\" x=\"194.5\" y=\"-197.3\">input:</text>\n",
       "<polyline fill=\"none\" points=\"167,-189.5 222,-189.5 \" stroke=\"#000000\"/>\n",
       "<text fill=\"#000000\" font-family=\"Times,serif\" font-size=\"14.00\" text-anchor=\"middle\" x=\"194.5\" y=\"-174.3\">output:</text>\n",
       "<polyline fill=\"none\" points=\"222,-166.5 222,-212.5 \" stroke=\"#000000\"/>\n",
       "<text fill=\"#000000\" font-family=\"Times,serif\" font-size=\"14.00\" text-anchor=\"middle\" x=\"270.5\" y=\"-197.3\">(None, 28, 28)</text>\n",
       "<polyline fill=\"none\" points=\"222,-189.5 319,-189.5 \" stroke=\"#000000\"/>\n",
       "<text fill=\"#000000\" font-family=\"Times,serif\" font-size=\"14.00\" text-anchor=\"middle\" x=\"270.5\" y=\"-174.3\">(None, 50)</text>\n",
       "</g>\n",
       "<!-- 140003454162144 -->\n",
       "<g class=\"node\" id=\"node2\">\n",
       "<title>140003454162144</title>\n",
       "<polygon fill=\"none\" points=\"43,-83.5 43,-129.5 276,-129.5 276,-83.5 43,-83.5\" stroke=\"#000000\"/>\n",
       "<text fill=\"#000000\" font-family=\"Times,serif\" font-size=\"14.00\" text-anchor=\"middle\" x=\"94\" y=\"-102.8\">dense_1: Dense</text>\n",
       "<polyline fill=\"none\" points=\"145,-83.5 145,-129.5 \" stroke=\"#000000\"/>\n",
       "<text fill=\"#000000\" font-family=\"Times,serif\" font-size=\"14.00\" text-anchor=\"middle\" x=\"172.5\" y=\"-114.3\">input:</text>\n",
       "<polyline fill=\"none\" points=\"145,-106.5 200,-106.5 \" stroke=\"#000000\"/>\n",
       "<text fill=\"#000000\" font-family=\"Times,serif\" font-size=\"14.00\" text-anchor=\"middle\" x=\"172.5\" y=\"-91.3\">output:</text>\n",
       "<polyline fill=\"none\" points=\"200,-83.5 200,-129.5 \" stroke=\"#000000\"/>\n",
       "<text fill=\"#000000\" font-family=\"Times,serif\" font-size=\"14.00\" text-anchor=\"middle\" x=\"238\" y=\"-114.3\">(None, 50)</text>\n",
       "<polyline fill=\"none\" points=\"200,-106.5 276,-106.5 \" stroke=\"#000000\"/>\n",
       "<text fill=\"#000000\" font-family=\"Times,serif\" font-size=\"14.00\" text-anchor=\"middle\" x=\"238\" y=\"-91.3\">(None, 10)</text>\n",
       "</g>\n",
       "<!-- 140001201379144&#45;&gt;140003454162144 -->\n",
       "<g class=\"edge\" id=\"edge2\">\n",
       "<title>140001201379144-&gt;140003454162144</title>\n",
       "<path d=\"M159.5,-166.3799C159.5,-158.1745 159.5,-148.7679 159.5,-139.8786\" fill=\"none\" stroke=\"#000000\"/>\n",
       "<polygon fill=\"#000000\" points=\"163.0001,-139.784 159.5,-129.784 156.0001,-139.784 163.0001,-139.784\" stroke=\"#000000\"/>\n",
       "</g>\n",
       "<!-- 140001201380320 -->\n",
       "<g class=\"node\" id=\"node3\">\n",
       "<title>140001201380320</title>\n",
       "<polygon fill=\"none\" points=\"20,-.5 20,-46.5 299,-46.5 299,-.5 20,-.5\" stroke=\"#000000\"/>\n",
       "<text fill=\"#000000\" font-family=\"Times,serif\" font-size=\"14.00\" text-anchor=\"middle\" x=\"94\" y=\"-19.8\">activation_1: Activation</text>\n",
       "<polyline fill=\"none\" points=\"168,-.5 168,-46.5 \" stroke=\"#000000\"/>\n",
       "<text fill=\"#000000\" font-family=\"Times,serif\" font-size=\"14.00\" text-anchor=\"middle\" x=\"195.5\" y=\"-31.3\">input:</text>\n",
       "<polyline fill=\"none\" points=\"168,-23.5 223,-23.5 \" stroke=\"#000000\"/>\n",
       "<text fill=\"#000000\" font-family=\"Times,serif\" font-size=\"14.00\" text-anchor=\"middle\" x=\"195.5\" y=\"-8.3\">output:</text>\n",
       "<polyline fill=\"none\" points=\"223,-.5 223,-46.5 \" stroke=\"#000000\"/>\n",
       "<text fill=\"#000000\" font-family=\"Times,serif\" font-size=\"14.00\" text-anchor=\"middle\" x=\"261\" y=\"-31.3\">(None, 10)</text>\n",
       "<polyline fill=\"none\" points=\"223,-23.5 299,-23.5 \" stroke=\"#000000\"/>\n",
       "<text fill=\"#000000\" font-family=\"Times,serif\" font-size=\"14.00\" text-anchor=\"middle\" x=\"261\" y=\"-8.3\">(None, 10)</text>\n",
       "</g>\n",
       "<!-- 140003454162144&#45;&gt;140001201380320 -->\n",
       "<g class=\"edge\" id=\"edge3\">\n",
       "<title>140003454162144-&gt;140001201380320</title>\n",
       "<path d=\"M159.5,-83.3799C159.5,-75.1745 159.5,-65.7679 159.5,-56.8786\" fill=\"none\" stroke=\"#000000\"/>\n",
       "<polygon fill=\"#000000\" points=\"163.0001,-56.784 159.5,-46.784 156.0001,-56.784 163.0001,-56.784\" stroke=\"#000000\"/>\n",
       "</g>\n",
       "<!-- 140001201379928 -->\n",
       "<g class=\"node\" id=\"node4\">\n",
       "<title>140001201379928</title>\n",
       "<polygon fill=\"none\" points=\"100.5,-249.5 100.5,-285.5 218.5,-285.5 218.5,-249.5 100.5,-249.5\" stroke=\"#000000\"/>\n",
       "<text fill=\"#000000\" font-family=\"Times,serif\" font-size=\"14.00\" text-anchor=\"middle\" x=\"159.5\" y=\"-263.8\">140001201379928</text>\n",
       "</g>\n",
       "<!-- 140001201379928&#45;&gt;140001201379144 -->\n",
       "<g class=\"edge\" id=\"edge1\">\n",
       "<title>140001201379928-&gt;140001201379144</title>\n",
       "<path d=\"M159.5,-249.4092C159.5,-241.4308 159.5,-231.795 159.5,-222.606\" fill=\"none\" stroke=\"#000000\"/>\n",
       "<polygon fill=\"#000000\" points=\"163.0001,-222.5333 159.5,-212.5333 156.0001,-222.5334 163.0001,-222.5333\" stroke=\"#000000\"/>\n",
       "</g>\n",
       "</g>\n",
       "</svg>"
      ],
      "text/plain": [
       "<IPython.core.display.SVG object>"
      ]
     },
     "execution_count": 4,
     "metadata": {},
     "output_type": "execute_result"
    }
   ],
   "source": [
    "SVG(model_to_dot(model, show_shapes=True).create(prog='dot', format='svg'))"
   ]
  },
  {
   "cell_type": "code",
   "execution_count": 5,
   "metadata": {},
   "outputs": [
    {
     "name": "stdout",
     "output_type": "stream",
     "text": [
      "WARNING:tensorflow:From /home/qian/anaconda3/envs/tensorflow/lib/python3.6/site-packages/tensorflow/python/ops/math_ops.py:3066: to_int32 (from tensorflow.python.ops.math_ops) is deprecated and will be removed in a future version.\n",
      "Instructions for updating:\n",
      "Use tf.cast instead.\n",
      "Epoch 1/50\n",
      " - 4s - loss: 0.7792 - acc: 0.7635\n",
      "Epoch 2/50\n",
      " - 4s - loss: 0.3453 - acc: 0.9008\n",
      "Epoch 3/50\n",
      " - 4s - loss: 0.2820 - acc: 0.9180\n",
      "Epoch 4/50\n",
      " - 4s - loss: 0.2428 - acc: 0.9300\n",
      "Epoch 5/50\n",
      " - 4s - loss: 0.2153 - acc: 0.9371\n",
      "Epoch 6/50\n",
      " - 4s - loss: 0.2033 - acc: 0.9418\n",
      "Epoch 7/50\n",
      " - 4s - loss: 0.1869 - acc: 0.9459\n",
      "Epoch 8/50\n",
      " - 4s - loss: 0.1728 - acc: 0.9500\n",
      "Epoch 9/50\n",
      " - 4s - loss: 0.1653 - acc: 0.9524\n",
      "Epoch 10/50\n",
      " - 4s - loss: 0.1600 - acc: 0.9536\n",
      "Epoch 11/50\n",
      " - 4s - loss: 0.1546 - acc: 0.9564\n",
      "Epoch 12/50\n",
      " - 4s - loss: 0.1487 - acc: 0.9576\n",
      "Epoch 13/50\n",
      " - 4s - loss: 0.1442 - acc: 0.9587\n",
      "Epoch 14/50\n",
      " - 4s - loss: 0.1380 - acc: 0.9607\n",
      "Epoch 15/50\n",
      " - 4s - loss: 0.1347 - acc: 0.9612\n",
      "Epoch 16/50\n",
      " - 4s - loss: 0.1366 - acc: 0.9609\n",
      "Epoch 17/50\n",
      " - 4s - loss: 0.1265 - acc: 0.9634\n",
      "Epoch 18/50\n",
      " - 4s - loss: 0.1276 - acc: 0.9622\n",
      "Epoch 19/50\n",
      " - 4s - loss: 0.1222 - acc: 0.9653\n",
      "Epoch 20/50\n",
      " - 4s - loss: 0.1185 - acc: 0.9662\n",
      "Epoch 21/50\n",
      " - 4s - loss: 0.1190 - acc: 0.9656\n",
      "Epoch 22/50\n",
      " - 4s - loss: 0.1160 - acc: 0.9664\n",
      "Epoch 23/50\n",
      " - 4s - loss: 0.1155 - acc: 0.9670\n",
      "Epoch 24/50\n",
      " - 4s - loss: 0.1146 - acc: 0.9676\n",
      "Epoch 25/50\n",
      " - 4s - loss: 0.1092 - acc: 0.9685\n",
      "Epoch 26/50\n",
      " - 4s - loss: 0.1074 - acc: 0.9690\n",
      "Epoch 27/50\n",
      " - 4s - loss: 0.1101 - acc: 0.9676\n",
      "Epoch 28/50\n",
      " - 4s - loss: 0.1066 - acc: 0.9691\n",
      "Epoch 29/50\n",
      " - 4s - loss: 0.1071 - acc: 0.9693\n",
      "Epoch 30/50\n",
      " - 4s - loss: 0.1029 - acc: 0.9703\n",
      "Epoch 31/50\n",
      " - 4s - loss: 0.1032 - acc: 0.9701\n",
      "Epoch 32/50\n",
      " - 4s - loss: 0.1073 - acc: 0.9689\n",
      "Epoch 33/50\n",
      " - 4s - loss: 0.0976 - acc: 0.9719\n",
      "Epoch 34/50\n",
      " - 4s - loss: 0.0994 - acc: 0.9708\n",
      "Epoch 35/50\n",
      " - 4s - loss: 0.0952 - acc: 0.9729\n",
      "Epoch 36/50\n",
      " - 4s - loss: 0.0984 - acc: 0.9721\n",
      "Epoch 37/50\n",
      " - 4s - loss: 0.0938 - acc: 0.9735\n",
      "Epoch 38/50\n",
      " - 4s - loss: 0.0956 - acc: 0.9725\n",
      "Epoch 39/50\n",
      " - 4s - loss: 0.0951 - acc: 0.9722\n",
      "Epoch 40/50\n",
      " - 4s - loss: 0.0949 - acc: 0.9733\n",
      "Epoch 41/50\n",
      " - 4s - loss: 0.0922 - acc: 0.9739\n",
      "Epoch 42/50\n",
      " - 4s - loss: 0.0899 - acc: 0.9737\n",
      "Epoch 43/50\n",
      " - 4s - loss: 0.0910 - acc: 0.9740\n",
      "Epoch 44/50\n",
      " - 4s - loss: 0.0903 - acc: 0.9744\n",
      "Epoch 45/50\n",
      " - 4s - loss: 0.0886 - acc: 0.9740\n",
      "Epoch 46/50\n",
      " - 4s - loss: 0.0886 - acc: 0.9745\n",
      "Epoch 47/50\n",
      " - 4s - loss: 0.0871 - acc: 0.9743\n",
      "Epoch 48/50\n",
      " - 4s - loss: 0.0883 - acc: 0.9744\n",
      "Epoch 49/50\n",
      " - 4s - loss: 0.0866 - acc: 0.9748\n",
      "Epoch 50/50\n",
      " - 4s - loss: 0.0875 - acc: 0.9745\n",
      "CPU times: user 6min 2s, sys: 24.3 s, total: 6min 26s\n",
      "Wall time: 3min 5s\n"
     ]
    }
   ],
   "source": [
    "%%time\n",
    "\n",
    "epochs = 50\n",
    "\n",
    "history = model.fit(X_train, \n",
    "                    Y_train, \n",
    "                    epochs=epochs, \n",
    "                    batch_size=128,\n",
    "                    verbose=2)"
   ]
  },
  {
   "cell_type": "code",
   "execution_count": 6,
   "metadata": {},
   "outputs": [
    {
     "data": {
      "image/png": "[encoded data removed]",
      "text/plain": [
       "<Figure size 360x216 with 1 Axes>"
      ]
     },
     "metadata": {
      "needs_background": "light"
     },
     "output_type": "display_data"
    },
    {
     "data": {
      "image/png": "[encoded data removed]",
      "text/plain": [
       "<Figure size 360x216 with 1 Axes>"
      ]
     },
     "metadata": {
      "needs_background": "light"
     },
     "output_type": "display_data"
    }
   ],
   "source": [
    "plt.figure(figsize=(5,3))\n",
    "plt.plot(history.epoch,history.history['loss'])\n",
    "plt.title('loss')\n",
    "\n",
    "plt.figure(figsize=(5,3))\n",
    "plt.plot(history.epoch,history.history['acc'])\n",
    "plt.title('accuracy');"
   ]
  },
  {
   "cell_type": "code",
   "execution_count": null,
   "metadata": {},
   "outputs": [],
   "source": []
  }
 ],
 "metadata": {
  "kernelspec": {
   "display_name": "Python 3",
   "language": "python",
   "name": "python3"
  },
  "language_info": {
   "codemirror_mode": {
    "name": "ipython",
    "version": 3
   },
   "file_extension": ".py",
   "mimetype": "text/x-python",
   "name": "python",
   "nbconvert_exporter": "python",
   "pygments_lexer": "ipython3",
   "version": "3.6.7"
  }
 },
 "nbformat": 4,
 "nbformat_minor": 2
}
