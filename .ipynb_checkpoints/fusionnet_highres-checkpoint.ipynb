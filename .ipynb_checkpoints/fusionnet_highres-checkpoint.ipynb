{
 "cells": [
  {
   "cell_type": "code",
   "execution_count": 1,
   "metadata": {},
   "outputs": [
    {
     "name": "stderr",
     "output_type": "stream",
     "text": [
      "Using TensorFlow backend.\n"
     ]
    }
   ],
   "source": [
    "import tensorflow as tf\n",
    "from keras import layers\n",
    "from keras.models import Model, Sequential\n",
    "from keras import backend as K\n",
    "from sklearn.metrics import mean_squared_error\n",
    "import keras\n",
    "import numpy as np\n",
    "from sklearn.model_selection import train_test_split\n",
    "from keras.optimizers import Adam\n",
    "_optimizer = Adam(0.0002, 0.5)\n",
    "#_optimizer = Adam(0.001, 0.9)\n",
    "from keras import losses\n",
    "\n",
    "# from tensorflow.keras import layers\n",
    "# from tensorflow.keras.models import Model\n",
    "import cv2\n",
    "import matplotlib.pyplot as plt\n",
    "from IPython import display\n",
    "from tqdm import tqdm"
   ]
  },
  {
   "cell_type": "code",
   "execution_count": null,
   "metadata": {},
   "outputs": [],
   "source": [
    "def load_imgs(path, number, train_type):\n",
    "    result=np.empty((number, 256, 256, 3), dtype=\"uint8\")\n",
    "    for i in range(number):\n",
    "        I = cv2.imread(path + \"{:05}_{}.jpeg\".format(i+1, train_type))\n",
    "        I = cv2.resize(I, (0,0), fx=0.5, fy=0.5)\n",
    "        result[i, :, :, :] = I\n",
    "    return result"
   ]
  },
  {
   "cell_type": "code",
   "execution_count": null,
   "metadata": {},
   "outputs": [],
   "source": [
    "# '''load images, parse test/validation set'''\n",
    "\n",
    "dataNum = 10000\n",
    "dataPath = \"/home/qian/Downloads/highres_dataset/\"\n",
    "x1 = load_imgs(dataPath, dataNum, 1)\n",
    "x2 = load_imgs(dataPath, dataNum, 2)\n",
    "y = load_imgs(dataPath, dataNum, 0)\n",
    "#y = y[:, 8:-8, 8:-8, :]\n",
    "mask = load_imgs(dataPath, dataNum, 4)\n",
    "mask = 255-mask[:, :, :, :1]\n",
    "\n",
    "x_train1, x_test1, x_train2, x_test2, y_train, y_test, mask_train, mask_test = train_test_split(\n",
    "    x1, x2, y, mask, test_size=0.25)"
   ]
  },
  {
   "cell_type": "code",
   "execution_count": null,
   "metadata": {},
   "outputs": [],
   "source": [
    "# plt.imshow(y[0, :, :, :])\n",
    "# plt.show()\n",
    "# print(y.max())\n",
    "# print(mask.shape)"
   ]
  },
  {
   "cell_type": "code",
   "execution_count": null,
   "metadata": {},
   "outputs": [],
   "source": [
    "def encoder_block(x, _filters, _kernel_size, _strides, bn = True):\n",
    "    y = layers.Conv2D(filters = _filters, kernel_size = _kernel_size, \n",
    "                      strides = _strides, padding=\"same\",\n",
    "                      kernel_initializer = keras.initializers.RandomNormal(stddev=0.02))(x)\n",
    "    if bn is True:\n",
    "        y = layers.BatchNormalization(momentum = 0.9, epsilon=1e-5)(y)\n",
    "    y = layers.ReLU()(y)\n",
    "    return y"
   ]
  },
  {
   "cell_type": "code",
   "execution_count": null,
   "metadata": {},
   "outputs": [],
   "source": [
    "def encoder_net(y):\n",
    "    y = encoder_block(y, 32, (5, 5), (4, 4), bn = False)\n",
    "    y = encoder_block(y, 128, (5, 5), (4, 4))\n",
    "    y = encoder_block(y, 256, (5, 5), (4, 4))\n",
    "    y = encoder_block(y, 256, (5, 5), (4, 4))\n",
    "#    y = encoder_block(y, 256, (5, 5), (2, 2))\n",
    "#   y = encoder_block(y, 256, (5, 5), (4, 4))\n",
    "#    y = encoder_block(y, 256, (5, 5), (2, 2))\n",
    "#    y = encoder_block(y, 256, (5, 5), (4, 4))\n",
    "#    y = encoder_block(y, 256, (5, 5), (2, 2))\n",
    "#     y = layers.Flatten()(y)\n",
    "#     y = layers.Dense(256, \n",
    "#                      kernel_initializer = keras.initializers.RandomNormal(stddev=0.02))(y)\n",
    "#     y = layers.BatchNormalization(momentum = 0.9, epsilon=1e-5)(y)\n",
    "#     y = layers.ReLU()(y)\n",
    "    return y"
   ]
  },
  {
   "cell_type": "code",
   "execution_count": null,
   "metadata": {},
   "outputs": [],
   "source": [
    "def decoder_block(x, _filters, _kernel_size, _strides, dropout = False):\n",
    "    y = layers.Conv2DTranspose(filters = _filters, kernel_size = _kernel_size, \n",
    "                               strides=_strides, padding=\"same\",\n",
    "                               kernel_initializer=keras.initializers.RandomNormal(stddev=0.02))(x)\n",
    "    y = layers.BatchNormalization(momentum = 0.9, epsilon=1e-5)(y)\n",
    "    if dropout is True:\n",
    "        y = layers.Dropout(0.5)(y)\n",
    "    y = layers.ReLU()(y)\n",
    "    return y"
   ]
  },
  {
   "cell_type": "code",
   "execution_count": null,
   "metadata": {},
   "outputs": [],
   "source": [
    "def decoder_net(y):\n",
    "#     y = layers.Dense(8*8*256, \n",
    "#                      kernel_initializer = keras.initializers.RandomNormal(stddev=0.02))(y)\n",
    "\n",
    "#     y = layers.BatchNormalization(momentum = 0.9, epsilon=1e-5)(y)\n",
    "#     y = layers.ReLU()(y)imgIdx = 9\n",
    "# fig=plt.figure(figsize=(12, 12))\n",
    "# columns = 6\n",
    "# rows = 1\n",
    "# fig.add_subplot(rows, columns, 1)\n",
    "# plt.imshow(x_test1[imgIdx, :, :, :])\n",
    "# fig.add_subplot(rows, columns, 2)\n",
    "# plt.imshow(x_test2[imgIdx, :, :, :])\n",
    "# fig.add_subplot(rows, columns, 3)\n",
    "# plt.imshow(mask_test[imgIdx, :, :, 0])\n",
    "# fig.add_subplot(rows, columns, 4)\n",
    "# plt.imshow((layer_output[imgIdx, :, :, 0]+1)/2)\n",
    "# fig.add_subplot(rows, columns, 5)\n",
    "# plt.imshow((prediction[imgIdx, :, :, :]+1)/2)\n",
    "# fig.add_subplot(rows, columns, 6)\n",
    "# plt.imshow(y_test[imgIdx, :, :, :])\n",
    "# plt.show()\n",
    "# # fig.savefig(dataPath+\"results/struc_loss{:.2E}.png\".format(lambda_tv))\n",
    "#     y = layers.Reshape((8, 8, 256))(y)\n",
    "#    y = decoder_block(y, 256, (5, 5), (4, 4))\n",
    "#    y = decoder_block(y, 256, (5, 5), (2, 2))\n",
    "#    y = decoder_block(y, 256, (5, 5), (4, 4))\n",
    "#    y = decoder_block(y, 256, (5, 5), (2, 2))\n",
    "    y = decoder_block(y, 256, (5, 5), (4, 4))\n",
    "#    y = decoder_block(y, 256, (5, 5), (2, 2), False)\n",
    "    y = decoder_block(y, 256, (5, 5), (4, 4), False)\n",
    "    y = decoder_block(y, 128, (5, 5), (4, 4), False)\n",
    "    #print(y._keras_shape)\n",
    "    y = decoder_block(y, 32, (5, 5), (4, 4), False)\n",
    "    y = layers.Conv2D(filters = 1, kernel_size = (5, 5), padding = \"same\",\n",
    "                      activation=\"tanh\",\n",
    "                      kernel_initializer = keras.initializers.RandomNormal(stddev=0.02))(y)\n",
    "    #y = layers.Softmax(axis = -1)(y)\n",
    "    return y"
   ]
  },
  {
   "cell_type": "code",
   "execution_count": null,
   "metadata": {},
   "outputs": [],
   "source": [
    "def fusionnet(inTensor1, inTensor2):\n",
    "    out1 = encoder_net(inTensor1)\n",
    "    out2 = encoder_net(inTensor2)\n",
    "    x = layers.Concatenate(axis = -1)([out1, out2])\n",
    "    y = decoder_net(x)\n",
    "    return y"
   ]
  },
  {
   "cell_type": "code",
   "execution_count": null,
   "metadata": {},
   "outputs": [],
   "source": [
    "def fusionnetPos(y):\n",
    "    y, inTensor1, inTensor2 = y\n",
    "#     # crop the input images to the same size as network output.\n",
    "#     inCrop1 = layers.Cropping2D(cropping=((8, 8), (8, 8)))(inTensor1)\n",
    "#     inCrop2 = layers.CroppinimgIdx = 9\n",
    "# fig=plt.figure(figsize=(12, 12))\n",
    "# columns = 6\n",
    "# rows = 1\n",
    "# fig.add_subplot(rows, columns, 1)\n",
    "# plt.imshow(x_test1[imgIdx, :, :, :])\n",
    "# fig.add_subplot(rows, columns, 2)\n",
    "# plt.imshow(x_test2[imgIdx, :, :, :])\n",
    "# fig.add_subplot(rows, columns, 3)\n",
    "# plt.imshow(mask_test[imgIdx, :, :, 0])\n",
    "# fig.add_subplot(rows, columns, 4)\n",
    "# plt.imshow((layer_output[imgIdx, :, :, 0]+1)/2)\n",
    "# fig.add_subplot(rows, columns, 5)\n",
    "# plt.imshow((prediction[imgIdx, :, :, :]+1)/2)\n",
    "# fig.add_subplot(rows, columns, 6)\n",
    "# plt.imshow(y_test[imgIdx, :, :, :])\n",
    "# plt.show()\n",
    "# # fig.savefig(dataPath+\"results/struc_loss{:.2E}.png\".format(lambda_tv))g2D(cropping=((8, 8), (8, 8)))(inTensor2)\n",
    "    y = K.tile(y, [1, 1, 1, 3])\n",
    "    y1 = layers.Multiply()([inTensor1, (1+y)/2])\n",
    "    y2 = layers.Multiply()([inTensor2, 1-(1+y)/2])\n",
    "    y = layers.Add()([y1, y2])\n",
    "    return y"
   ]
  },
  {
   "cell_type": "code",
   "execution_count": null,
   "metadata": {},
   "outputs": [],
   "source": [
    "img1 = layers.Input(shape=(256, 256, 3))\n",
    "img2 = layers.Input(shape=(256, 256, 3))\n",
    "intermed = fusionnet(img1, img2) # intermed: mask layer\n",
    "\n",
    "pred = layers.Lambda(fusionnetPos)([intermed, img1, img2])"
   ]
  },
  {
   "cell_type": "code",
   "execution_count": null,
   "metadata": {
    "scrolled": true
   },
   "outputs": [],
   "source": [
    "'''2 outputs: 'pred' for GAN loss and 'intermed' for mask loss'''\n",
    "generator = Model(inputs = [img1, img2], outputs = [pred, intermed])\n",
    "generator.summary()"
   ]
  },
  {
   "cell_type": "code",
   "execution_count": null,
   "metadata": {},
   "outputs": [],
   "source": [
    "def data_gen(features, labels, batch_size):\n",
    "    features1, features2 = features\n",
    "    labels1, labels2 = labels\n",
    " # Create empty arrays to contain batch of features and labels#\n",
    "    batch_features1 = np.zeros((batch_size, 256, 256, 3))\n",
    "    batch_features2 = np.zeros((batch_size, 256, 256, 3))\n",
    "    batch_labels1 = np.zeros((batch_size, 256, 256, 3))\n",
    "    batch_labels2 = np.zeros((batch_size, 256, 256, 1))\n",
    "    while True:\n",
    "        for i in np.arange(0, features1.shape[0] - batch_size, batch_size):\n",
    "            # choose random index in features\n",
    "            batch_features1 = features1[i:i+batch_size, :, :, :].astype('float16')/127.5-1\n",
    "            batch_features2 = features2[i:i+batch_size, :, :, :].astype('float16')/127.5-1\n",
    "            batch_labels1= labels1[i:i+batch_size, :, :, :].astype('float16')/127.5-1\n",
    "            batch_labels2= labels2[i:i+batch_size, :, :, :].astype('float16')/127.5-1\n",
    "            yield ([batch_features1, batch_features2], [batch_labels1, batch_labels2])"
   ]
  },
  {
   "cell_type": "code",
   "execution_count": null,
   "metadata": {},
   "outputs": [],
   "source": [
    "'''train on generator using MSE of pred & mask.'''\n",
    "\n",
    "generator.compile(loss=['mse','mse'], loss_weights=[1,0], optimizer= _optimizer)\n",
    "batchSize = 16\n",
    "\n",
    "generator.fit_generator(data_gen([x_train1, x_train2], [y_train, mask_train], batchSize),\n",
    "                        dataNum/batchSize, epochs = 100)\n",
    "\n",
    "# for e in range(10000):\n",
    "#     print(\"epoch {}:\".format(e), end = \"\")\n",
    "#     rand_idx = np.random.randint(0, x_train1.shape[0], size = batchSize)\n",
    "#     img_batch1 = x_train1[rand_idx, :, :, :].astype('float16')/127.5-1\n",
    "#     img_batch2 = x_train2[rand_idx, :, :, :].astype('float16')/127.5-1\n",
    "#     mask_batch = mask_train[rand_idx, :, :, :].astype('float16')/127.5-1\n",
    "#     y_batch = y_train[rand_idx, :, :, :].astype('float16')/127.5-1\n",
    "#     loss = generator.train_on_batch([img_batch1, img_batch2], [y_batch, mask_batch])\n",
    "#     print(loss[0])"
   ]
  },
  {
   "cell_type": "code",
   "execution_count": null,
   "metadata": {},
   "outputs": [],
   "source": [
    "# generator.save('my_model.h5') "
   ]
  },
  {
   "cell_type": "code",
   "execution_count": null,
   "metadata": {},
   "outputs": [],
   "source": [
    "# prediction, a= generator.predict([x_test1[:25, :, :, :]/127.5-1, x_test2[:25, :, :, :]/127.5-1])\n",
    "# get_layer_output = K.function([generator.layers[0].input, generator.layers[1].input],\n",
    "#                                   [generator.layers[-2].output])\n",
    "\n",
    "# layer_output = np.array(get_layer_output([x_test1[:25, :, :, :]/127.5-1, x_test2[:25, :, :, :]/127.5-1])[0])\n",
    "# #print(prediction.max())"
   ]
  },
  {
   "cell_type": "code",
   "execution_count": null,
   "metadata": {},
   "outputs": [],
   "source": [
    "# for imgIdx in range(5):\n",
    "#     fig=plt.figure(figsize=(12, 12))\n",
    "#     columns = 6\n",
    "#     rows = 1\n",
    "#     fig.add_subplot(rows, columns, 1)\n",
    "#     plt.imshow(x_test1[imgIdx, :, :, :])\n",
    "#     fig.add_subplot(rows, columns, 2)\n",
    "#     plt.imshow(x_test2[imgIdx, :, :, :])\n",
    "#     fig.add_subplot(rows, columns, 3)\n",
    "#     plt.imshow(mask_test[imgIdx, :, :, 0])\n",
    "#     fig.add_subplot(rows, columns, 4)\n",
    "#     plt.imshow((layer_output[imgIdx, :, :, 0]+1)/2)\n",
    "#     fig.add_subplot(rows, columns, 5)\n",
    "#     plt.imshow((prediction[imgIdx, :, :, :]+1)/2)\n",
    "#     fig.add_subplot(rows, columns, 6)\n",
    "#     plt.imshow(y_test[imgIdx, :, :, :])\n",
    "#     plt.show()\n",
    "# # fig.savefig(dataPath+\"results/struc_loss{:.2E}.png\".format(lambda_tv))"
   ]
  },
  {
   "cell_type": "code",
   "execution_count": null,
   "metadata": {},
   "outputs": [],
   "source": [
    "generator.save_weights('my_model_weights.h5')\n",
    "\n",
    "# # from keras.models import load_model\n",
    "# # model = load_model('my_model.h5')"
   ]
  },
  {
   "cell_type": "code",
   "execution_count": null,
   "metadata": {},
   "outputs": [],
   "source": []
  }
 ],
 "metadata": {
  "kernelspec": {
   "display_name": "Python 3",
   "language": "python",
   "name": "python3"
  },
  "language_info": {
   "codemirror_mode": {
    "name": "ipython",
    "version": 3
   },
   "file_extension": ".py",
   "mimetype": "text/x-python",
   "name": "python",
   "nbconvert_exporter": "python",
   "pygments_lexer": "ipython3",
   "version": "3.6.5"
  },
  "widgets": {
   "application/vnd.jupyter.widget-state+json": {
    "state": {},
    "version_major": 2,
    "version_minor": 0
   }
  }
 },
 "nbformat": 4,
 "nbformat_minor": 2
}
