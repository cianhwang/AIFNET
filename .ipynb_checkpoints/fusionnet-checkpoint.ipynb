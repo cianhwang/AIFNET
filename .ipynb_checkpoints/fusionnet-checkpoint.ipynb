{
 "cells": [
  {
   "cell_type": "code",
   "execution_count": 1,
   "metadata": {},
   "outputs": [
    {
     "name": "stderr",
     "output_type": "stream",
     "text": [
      "Using TensorFlow backend.\n"
     ]
    }
   ],
   "source": [
    "import tensorflow as tf\n",
    "from keras import layers\n",
    "from keras.models import Model, Sequential\n",
    "from keras import backend as K\n",
    "from sklearn.metrics import mean_squared_error\n",
    "from skimage.measure import compare_ssim as SSIM\n",
    "import numpy as np\n",
    "from sklearn.model_selection import train_test_split\n",
    "from keras.optimizers import Adam\n",
    "_optimizer = Adam(0.0002, 0.5)\n",
    "from keras import losses\n",
    "\n",
    "# from tensorflow.keras import layers\n",
    "# from tensorflow.keras.models import Model\n",
    "import cv2\n",
    "import matplotlib.pyplot as plt\n",
    "from IPython import display\n",
    "from tqdm import tqdm"
   ]
  },
  {
   "cell_type": "code",
   "execution_count": 2,
   "metadata": {},
   "outputs": [],
   "source": [
    "def load_imgs(path, number, train_type):\n",
    "    result=np.empty((number, 48, 48, 3), dtype=\"float64\")\n",
    "    for i in range(number):\n",
    "        I = cv2.imread(path + \"{:04}_{}.jpeg\".format(i+1, train_type))\n",
    "        result[i, :, :, :] = I\n",
    "    return result/result.max()"
   ]
  },
  {
   "cell_type": "code",
   "execution_count": 3,
   "metadata": {},
   "outputs": [],
   "source": [
    "'''load images, parse test/validation set'''\n",
    "\n",
    "dataNum = 4000\n",
    "dataPath = \"mf_testcase/\"\n",
    "x1 = load_imgs(dataPath, dataNum, 1)\n",
    "x2 = load_imgs(dataPath, dataNum, 2)\n",
    "y = load_imgs(\"testcase_pro/\", dataNum, 0)\n",
    "y = y[:, 8:-8, 8:-8, :]\n",
    "mask1 = load_imgs(dataPath, dataNum, 4)\n",
    "mask1 = mask1[:, 8:-8, 8:-8, :1]\n",
    "mask2 = 1-mask1\n",
    "mask = np.concatenate((mask1, mask2), axis = 3)\n",
    "\n",
    "x_train1, x_test1, x_train2, x_test2, y_train, y_test, mask_train, mask_test = train_test_split(\n",
    "    x1, x2, y, mask, test_size=0.25)"
   ]
  },
  {
   "cell_type": "code",
   "execution_count": 4,
   "metadata": {},
   "outputs": [],
   "source": [
    "# input size: Nonex48x48x3\n",
    "# output size: Nonex36x36x16\n",
    "def pre_convblock(x):\n",
    "    y = layers.Conv2D(filters = 16, kernel_size = (5, 5), padding = \"valid\", activation = \"relu\")(x)\n",
    "    y = layers.Conv2D(filters = 32, kernel_size = (5, 5), padding = \"valid\", activation = \"relu\")(y)\n",
    "    y = layers.Conv2D(filters = 16, kernel_size = (5, 5), padding = \"valid\", activation = \"relu\")(y)\n",
    "    return y"
   ]
  },
  {
   "cell_type": "code",
   "execution_count": 5,
   "metadata": {},
   "outputs": [],
   "source": [
    "# tensor format: [batch, in_height, in_width, in_channels]\n",
    "# input size: Nonex36x36x32 (cat: 16+16)\n",
    "# output size: Nonex32x32x2\n",
    "# softmax is applied along the channel axis.\n",
    "def post_convblock(x):\n",
    "    y = layers.Conv2D(filters = 64, kernel_size=(3, 3), padding = \"valid\", activation = \"relu\")(x)\n",
    "    y = layers.Conv2D(filters = 32, kernel_size=(1, 1), padding = \"valid\", activation = \"relu\")(y)\n",
    "    y = layers.Conv2D(filters = 2, kernel_size=(3, 3), padding = \"valid\", activation = 'tanh')(y)\n",
    "#    y = layers.Conv2D(filters = 2, kernel_size=(3, 3), padding = \"valid\")(y)\n",
    "\n",
    "    y = layers.Softmax(axis = -1)(y)\n",
    "    return y"
   ]
  },
  {
   "cell_type": "code",
   "execution_count": 6,
   "metadata": {},
   "outputs": [],
   "source": [
    "# input: out-of-focus image block A & block B, which denote the same area of the whole picture.\n",
    "#        each: 48x48x3\n",
    "# output: \n",
    "def fusionnet(inTensor1, inTensor2):\n",
    "    out1 = pre_convblock(inTensor1)\n",
    "    out2 = pre_convblock(inTensor2)\n",
    "\n",
    "    x = layers.Concatenate(axis = -1)([out1, out2])\n",
    "    y = post_convblock(x)\n",
    "    \n",
    "    return y"
   ]
  },
  {
   "cell_type": "code",
   "execution_count": 7,
   "metadata": {},
   "outputs": [],
   "source": [
    "def fusionnetPos(y):\n",
    "    y, inTensor1, inTensor2 = y\n",
    "    # crop the input images to the same size as network output.\n",
    "    inCrop1 = layers.Cropping2D(cropping=((8, 8), (8, 8)))(inTensor1)\n",
    "    inCrop2 = layers.Cropping2D(cropping=((8, 8), (8, 8)))(inTensor2)\n",
    "    # y1, y2 = tf.split(y, [1, 1], axis = 3)\n",
    "    # extend y1&y2 dimension to 3, consistant to color channels\n",
    "    y1 = y[:, :, :, :1]\n",
    "    y2 = y[:, :, :, 1:]\n",
    "    y1 = K.tile(y1, [1, 1, 1, 3])\n",
    "    y2 = K.tile(y2, [1, 1, 1, 3])\n",
    "    y1 = layers.Multiply()([inCrop1, y1])\n",
    "    y2 = layers.Multiply()([inCrop2, y2])\n",
    "    y = layers.Add()([y1, y2])\n",
    "    return y"
   ]
  },
  {
   "cell_type": "code",
   "execution_count": 8,
   "metadata": {},
   "outputs": [],
   "source": [
    "img1 = layers.Input(shape=(48, 48, 3))\n",
    "img2 = layers.Input(shape=(48, 48, 3))\n",
    "intermed = fusionnet(img1, img2) # intermed: mask layer\n",
    "pred = layers.Lambda(fusionnetPos)([intermed, img1, img2])"
   ]
  },
  {
   "cell_type": "code",
   "execution_count": 9,
   "metadata": {
    "scrolled": true
   },
   "outputs": [],
   "source": [
    "'''2 outputs: 'pred' for GAN loss and 'intermed' for mask loss'''\n",
    "generator = Model(inputs = [img1, img2], outputs = [pred, intermed])\n",
    "# generator.summary()"
   ]
  },
  {
   "cell_type": "code",
   "execution_count": 10,
   "metadata": {},
   "outputs": [],
   "source": [
    "'''tv_loss: designed constraint on mask. WORKS NOT WELL.'''\n",
    "\n",
    "def tv_loss(y_true, y_pred):\n",
    "    #mapping = tf.cast(y_pred > 0.5, y_pred.dtype)\n",
    "    #loss = tf.reduce_mean(tf.image.total_variation(mapping))\n",
    "\n",
    "#     mapping = 0.25 - tf.square(y_pred-0.5) # 0.25-(x-0.5)^2\n",
    "#     sigma = 0.2\n",
    "#     mu = 0.5\n",
    "#     mapping = tf.exp(-0.5*tf.square((y_pred - mu)/sigma))\n",
    "    mapping = tf.square(y_pred)*tf.square(y_pred-1)/(tf.square(y_pred-0.5)+0.25)\n",
    "    loss = tf.reduce_mean(mapping)\n",
    "    return loss"
   ]
  },
  {
   "cell_type": "code",
   "execution_count": 11,
   "metadata": {},
   "outputs": [
    {
     "data": {
      "text/plain": [
       "'train on generator using MSE of pred & mask.'"
      ]
     },
     "execution_count": 11,
     "metadata": {},
     "output_type": "execute_result"
    }
   ],
   "source": [
    "'''train on generator using MSE of pred & mask.'''\n",
    "\n",
    "# lambda_tv = 1\n",
    "# generator.compile(loss=[losses.mean_squared_error, tv_loss], loss_weights=[1, 0.001], optimizer= _optimizer)\n",
    "# generator.fit([x_train1, x_train2], [y_train, mask_train], batch_size=64, epochs=5)\n",
    "\n",
    "\n",
    "\n",
    "# prediction, a = generator.predict([x1, x2])\n",
    "# get_layer_output = K.function([generator.layers[0].input, generator.layers[1].input],\n",
    "#                                   [generator.layers[-2].output])\n",
    "\n",
    "# layer_output = np.array(get_layer_output([x1, x2])[0])\n",
    "\n",
    "# imgIdx = 6\n",
    "# fig=plt.figure(figsize=(12, 12))\n",
    "# columns = 6\n",
    "# rows = 1\n",
    "# fig.add_subplot(rows, columns, 1)\n",
    "# plt.imshow(x1[imgIdx, 8:-8, 8:-8, :])\n",
    "# fig.add_subplot(rows, columns, 2)\n",
    "# plt.imshow(x2[imgIdx, 8:-8, 8:-8, :])\n",
    "# fig.add_subplot(rows, columns, 3)\n",
    "# plt.imshow(mask[imgIdx, :, :, 0])\n",
    "# fig.add_subplot(rows, columns, 4)\n",
    "# plt.imshow(layer_output[imgIdx, :, :, 0])\n",
    "# fig.add_subplot(rows, columns, 5)\n",
    "# plt.imshow(prediction[imgIdx, :, :, :])\n",
    "# fig.add_subplot(rows, columns, 6)\n",
    "# plt.imshow(y[imgIdx, :, :, :])\n",
    "# plt.show()\n",
    "# # fig.savefig(dataPath+\"results/struc_loss{:.2E}.png\".format(lambda_tv))"
   ]
  },
  {
   "cell_type": "code",
   "execution_count": 12,
   "metadata": {},
   "outputs": [],
   "source": [
    "def dis_block(x, _filters, _strides, bn = True):\n",
    "    y = layers.Conv2D(filters = _filters, kernel_size = (5, 5), strides = _strides, \n",
    "                      padding='same')(x)\n",
    "    y = layers.LeakyReLU(alpha=0.2)(y)\n",
    "    if bn:\n",
    "        y = layers.BatchNormalization(momentum=0.8)(y)\n",
    "    return y"
   ]
  },
  {
   "cell_type": "code",
   "execution_count": 13,
   "metadata": {},
   "outputs": [],
   "source": [
    "def disnet(x):\n",
    "    y = dis_block(x, 32, (2, 2), bn = False)\n",
    "    y = dis_block(y, 64, (1, 1))\n",
    "    y = dis_block(y, 64, (2, 2))\n",
    "    y = dis_block(y, 128, (1, 1))\n",
    "    y = dis_block(y, 128, (2, 2))\n",
    "#     y = dis_block(y, 256, (2, 2))\n",
    "#     y = dis_block(y, 256, (2, 2))\n",
    "    y = layers.Flatten()(y)\n",
    "    y = layers.Dense(1, activation='sigmoid')(y)\n",
    "    return y"
   ]
  },
  {
   "cell_type": "code",
   "execution_count": 14,
   "metadata": {},
   "outputs": [],
   "source": [
    "dis_input = layers.Input(shape=(32, 32, 3))\n",
    "dis_output = disnet(dis_input)\n",
    "discriminator = Model(inputs = dis_input, outputs = dis_output)\n",
    "# discriminator.summary()"
   ]
  },
  {
   "cell_type": "code",
   "execution_count": 15,
   "metadata": {},
   "outputs": [],
   "source": [
    "# discriminator.compile(loss='mse', optimizer= _optimizer)\n",
    "# y_fake = generator.predict([x_train1, x_train2])\n",
    "# dis_input = np.concatenate((y_fake, y_train), axis = 0)\n",
    "# label = np.append(np.zeros((y_fake.shape[0], )), np.ones((y_train.shape[0], )))\n",
    "\n",
    "# for e in range(20):\n",
    "#     discriminator.fit(dis_input, label)\n",
    "\n",
    "# label = discriminator.predict(x_test1[:, 8:-8, 8:-8, :])\n",
    "# print(np.sum(label < 0.5))\n",
    "# print(label)"
   ]
  },
  {
   "cell_type": "code",
   "execution_count": 16,
   "metadata": {},
   "outputs": [],
   "source": [
    "def gannet(x):\n",
    "    img1, img2 = x\n",
    "    pred, intermed = generator([img1, img2])\n",
    "    prob = discriminator(pred)\n",
    "    discriminator.trainable = False\n",
    "    return (prob, intermed)"
   ]
  },
  {
   "cell_type": "code",
   "execution_count": 17,
   "metadata": {},
   "outputs": [],
   "source": [
    "prob, intermed = gannet([img1, img2])\n",
    "gan = Model(inputs = [img1, img2], outputs= [prob, intermed])\n",
    "# gan.summary()"
   ]
  },
  {
   "cell_type": "code",
   "execution_count": 18,
   "metadata": {},
   "outputs": [],
   "source": [
    "# prediction = gan.predict([x1, x2])\n",
    "# mask = prediction[1]\n",
    "# plt.imshow(mask[6, :, :, 0])\n",
    "# mask_tensor = tf.convert_to_tensor(mask)\n",
    "# tv = tf.image.total_variation(mask_tensor)\n",
    "# sess = tf.Session()\n",
    "# loss = tv.eval(session=sess)\n",
    "\n",
    "# print(loss[:10]/32/32/2)"
   ]
  },
  {
   "cell_type": "code",
   "execution_count": null,
   "metadata": {},
   "outputs": [],
   "source": [
    "def plot_loss(losses):\n",
    "        display.clear_output(wait=True)\n",
    "        display.display(plt.gcf())\n",
    "        plt.figure(figsize=(10,8))\n",
    "        plt.plot(losses[\"d\"], label='discriminitive loss')\n",
    "        plt.plot(losses[\"g\"], label='generative loss')\n",
    "        plt.legend()\n",
    "        plt.show()"
   ]
  },
  {
   "cell_type": "code",
   "execution_count": null,
   "metadata": {
    "scrolled": true
   },
   "outputs": [
    {
     "data": {
      "text/plain": [
       "<Figure size 432x288 with 0 Axes>"
      ]
     },
     "metadata": {},
     "output_type": "display_data"
    },
    {
     "data": {
      "text/plain": [
       "<Figure size 432x288 with 0 Axes>"
      ]
     },
     "metadata": {},
     "output_type": "display_data"
    },
    {
     "data": {
      "image/png": "[encoded data removed]",
      "text/plain": [
       "<Figure size 720x576 with 1 Axes>"
      ]
     },
     "metadata": {
      "needs_background": "light"
     },
     "output_type": "display_data"
    },
    {
     "data": {
      "image/png": "[encoded data removed]",
      "text/plain": [
       "<Figure size 864x864 with 6 Axes>"
      ]
     },
     "metadata": {
      "needs_background": "light"
     },
     "output_type": "display_data"
    },
    {
     "name": "stderr",
     "output_type": "stream",
     "text": [
      " 18%|█▊        | 18/100 [02:50<19:32, 14.30s/it]"
     ]
    }
   ],
   "source": [
    "epoch = 100\n",
    "batchSize = 64\n",
    "losses = {\"d\":[], \"g\":[]}\n",
    "for e in tqdm(range(epoch)):\n",
    "    rand_idx = np.random.randint(0, x_train1.shape[0], size = batchSize)\n",
    "    img_batch1 = x_train1[rand_idx, :, :, :]\n",
    "    img_batch2 = x_train2[rand_idx, :, :, :]\n",
    "    mask_batch = mask_train[rand_idx, :, :, :]\n",
    "    y_batch = y_train[np.random.randint(0, y_train.shape[0], size = batchSize), :, :, :]\n",
    "    img_fake = generator.predict([img_batch1, img_batch2])[0]\n",
    "    img_valid = y_batch\n",
    "    dis_input = np.concatenate((img_fake, img_valid), axis = 0)\n",
    "    label = np.append(np.zeros((batchSize, )), np.ones((batchSize, )))\n",
    "    \n",
    "    discriminator.trainable = True\n",
    "    discriminator.compile(loss='binary_crossentropy', optimizer=_optimizer)\n",
    "    d_loss = discriminator.train_on_batch(dis_input, label)\n",
    "    losses[\"d\"].append(d_loss)\n",
    "    \n",
    "    gan_label = np.ones((batchSize,))\n",
    "    discriminator.trainable = False\n",
    "    gan.compile(loss = ['binary_crossentropy', tv_loss], loss_weights=[1, 0.1], optimizer=_optimizer)\n",
    "\n",
    "    g_loss = gan.train_on_batch([img_batch1, img_batch2], [gan_label, mask_batch])\n",
    "    losses[\"g\"].append(g_loss[1])\n",
    "    \n",
    "    if e % 5 == 4:\n",
    "        plot_loss(losses)\n",
    "\n",
    "        imgIdx = 16\n",
    "        prediction = generator.predict([x1[imgIdx:imgIdx+1, :, :, :], x2[imgIdx:imgIdx+1, :, :, :]])[0]\n",
    "        #ssim = SSIM(y[imgIdx, :, :, :], prediction[0, :, :, :], data_range=prediction[0, :, :, :].max() - prediction[0, :, :, :].min(), multichannel=True)\n",
    "        #print(ssim)\n",
    "        \n",
    "        get_layer_output = K.function([generator.layers[0].input, generator.layers[1].input],\n",
    "                                          [generator.layers[-2].output])\n",
    "\n",
    "        layer_output = np.array(get_layer_output([x1[imgIdx:imgIdx+1, :, :, :], x2[imgIdx:imgIdx+1, :, :, :]])[0])\n",
    "\n",
    "        fig=plt.figure(figsize=(12, 12))\n",
    "        columns = 6\n",
    "        rows = 1\n",
    "        fig.add_subplot(rows, columns, 1)\n",
    "        plt.imshow(x1[imgIdx, 8:-8, 8:-8, :])\n",
    "        fig.add_subplot(rows, columns, 2)\n",
    "        plt.imshow(x2[imgIdx, 8:-8, 8:-8, :])\n",
    "        fig.add_subplot(rows, columns, 3)\n",
    "        plt.imshow(mask[imgIdx, :, :, 0])\n",
    "        fig.add_subplot(rows, columns, 4)\n",
    "        plt.imshow(layer_output[0, :, :, 0])\n",
    "        fig.add_subplot(rows, columns, 5)\n",
    "        plt.imshow(prediction[0, :, :, :])\n",
    "        fig.add_subplot(rows, columns, 6)\n",
    "        plt.imshow(y[imgIdx, :, :, :])\n",
    "        plt.show()\n",
    "        #fig.savefig(dataPath+\"results/struc_ep{}_{}.png\".format(e,98))"
   ]
  },
  {
   "cell_type": "code",
   "execution_count": null,
   "metadata": {},
   "outputs": [],
   "source": [
    "# prediction = generator.predict([x_test1, x_test2])\n",
    "# get_layer_output = K.function([generator.layers[0].input, generator.layers[1].input],\n",
    "#                                   [generator.layers[-2].output])\n",
    "\n",
    "# layer_output = np.array(get_layer_output([x_test1, x_test2])[0])"
   ]
  },
  {
   "cell_type": "code",
   "execution_count": null,
   "metadata": {},
   "outputs": [],
   "source": [
    "# np.save('x_test1.npy', x_test1)\n",
    "# np.save('x_test2.npy', x_test2)\n",
    "# np.save('y_test.npy', y_test)\n",
    "# np.save('prediction.npy', prediction[0])\n",
    "# np.save('layer_output.npy', layer_output)\n",
    "# np.save('mask_test.npy', mask_test)"
   ]
  },
  {
   "cell_type": "code",
   "execution_count": null,
   "metadata": {},
   "outputs": [],
   "source": [
    "# # ssimList = []\n",
    "# # ada = 999\n",
    "# for imgIdx in range(1000):\n",
    "# #     ssim = SSIM(y_test[imgIdx, :, :, :], prediction[0][imgIdx, :, :, :], data_range=1, multichannel=True)\n",
    "# #     ssimList.append(ssim)\n",
    "# #     ssim1 = SSIM(y_test[imgIdx, :, :, :], x_test1[imgIdx, 8:-8, 8:-8, :], data_range=1, multichannel=True)\n",
    "# #     ssim2 = SSIM(y_test[imgIdx, :, :, :], x_test2[imgIdx, 8:-8, 8:-8, :], data_range=1, multichannel=True)\n",
    "# #     print(ssim1)\n",
    "# #     print(ssim2)\n",
    "# #     print(ssim)\n",
    "# #    imgIdx = 312\n",
    "#     fig=plt.figure(figsize=(12, 12))\n",
    "#     columns = 6\n",
    "#     rows = 1\n",
    "#     fig.add_subplot(rows, columns, 1)\n",
    "#     plt.imshow(x_test1[imgIdx, 8:-8, 8:-8, :])\n",
    "#     fig.add_subplot(rows, columns, 2)\n",
    "#     plt.imshow(x_test2[imgIdx, 8:-8, 8:-8, :])\n",
    "#     fig.add_subplot(rows, columns, 3)\n",
    "#     plt.imshow(layer_output[imgIdx, :, :, 0])\n",
    "#     fig.add_subplot(rows, columns, 4)\n",
    "#     plt.imshow(prediction[0][imgIdx, :, :, :])\n",
    "#     fig.add_subplot(rows, columns, 5)\n",
    "#     plt.imshow(y_test[imgIdx, :, :, :])\n",
    "#     fig.add_subplot(rows, columns, 6)\n",
    "#     plt.imshow(mask_test[imgIdx, :, :, 0])\n",
    "#     plt.show()\n",
    "#     fig.savefig(dataPath+\"results/{}.png\".format(imgIdx))"
   ]
  },
  {
   "cell_type": "code",
   "execution_count": null,
   "metadata": {},
   "outputs": [],
   "source": [
    "# plt.hist(ssimList, bins = 20)"
   ]
  },
  {
   "cell_type": "code",
   "execution_count": null,
   "metadata": {},
   "outputs": [],
   "source": [
    "# generator.save('generator.h5')"
   ]
  }
 ],
 "metadata": {
  "kernelspec": {
   "display_name": "Python 3",
   "language": "python",
   "name": "python3"
  },
  "language_info": {
   "codemirror_mode": {
    "name": "ipython",
    "version": 3
   },
   "file_extension": ".py",
   "mimetype": "text/x-python",
   "name": "python",
   "nbconvert_exporter": "python",
   "pygments_lexer": "ipython3",
   "version": "3.6.6"
  },
  "widgets": {
   "application/vnd.jupyter.widget-state+json": {
    "state": {},
    "version_major": 2,
    "version_minor": 0
   }
  }
 },
 "nbformat": 4,
 "nbformat_minor": 2
}
