{
 "cells": [
  {
   "cell_type": "code",
   "execution_count": 1,
   "metadata": {},
   "outputs": [
    {
     "name": "stderr",
     "output_type": "stream",
     "text": [
      "Using TensorFlow backend.\n"
     ]
    }
   ],
   "source": [
    "import tensorflow as tf\n",
    "from keras import layers\n",
    "from keras.models import Model, Sequential\n",
    "from keras import backend as K\n",
    "from sklearn.metrics import mean_squared_error\n",
    "import keras\n",
    "import numpy as np\n",
    "from sklearn.model_selection import train_test_split\n",
    "from keras.optimizers import Adam\n",
    "_optimizer = Adam(0.0002, 0.5)\n",
    "from keras import losses\n",
    "\n",
    "# from tensorflow.keras import layers\n",
    "# from tensorflow.keras.models import Model\n",
    "import cv2\n",
    "import matplotlib.pyplot as plt\n",
    "from IPython import display\n",
    "from tqdm import tqdm"
   ]
  },
  {
   "cell_type": "code",
   "execution_count": 2,
   "metadata": {},
   "outputs": [],
   "source": [
    "def load_imgs(path, number, train_type):\n",
    "    result=np.empty((number, 256, 256, 3), dtype=\"uint8\")\n",
    "    for i in range(number):\n",
    "        I = cv2.imread(path + \"{:05}_{}.jpeg\".format(i+1, train_type))\n",
    "        I = cv2.resize(I, (0,0), fx=0.5, fy=0.5)\n",
    "        result[i, :, :, :] = I\n",
    "    return result"
   ]
  },
  {
   "cell_type": "code",
   "execution_count": 3,
   "metadata": {},
   "outputs": [],
   "source": [
    "# '''load images, parse test/validation set'''\n",
    "\n",
    "dataNum = 4000\n",
    "dataPath = \"/home/qian/Downloads/highres_dataset/\"\n",
    "x1 = load_imgs(dataPath, dataNum, 1)\n",
    "x2 = load_imgs(dataPath, dataNum, 2)\n",
    "y = load_imgs(dataPath, dataNum, 0)\n",
    "#y = y[:, 8:-8, 8:-8, :]\n",
    "mask = load_imgs(dataPath, dataNum, 4)\n",
    "mask = 255-mask[:, :, :, :1]\n",
    "\n",
    "x_train1, x_test1, x_train2, x_test2, y_train, y_test, mask_train, mask_test = train_test_split(\n",
    "    x1, x2, y, mask, test_size=0.20)"
   ]
  },
  {
   "cell_type": "code",
   "execution_count": 4,
   "metadata": {},
   "outputs": [
    {
     "name": "stdout",
     "output_type": "stream",
     "text": [
      "255\n",
      "(1000, 256, 256, 1)\n"
     ]
    }
   ],
   "source": [
    "# plt.imshow(y[0, :, :, :])\n",
    "# plt.show()\n",
    "print(y.max())\n",
    "print(mask.shape)"
   ]
  },
  {
   "cell_type": "code",
   "execution_count": 5,
   "metadata": {},
   "outputs": [],
   "source": [
    "def encoder_block(x, _filters, _kernel_size, _strides, bn = True):\n",
    "    y = layers.Conv2D(filters = _filters, kernel_size = _kernel_size, \n",
    "                      strides = _strides, padding=\"same\",\n",
    "                      kernel_initializer = keras.initializers.RandomNormal(stddev=0.02))(x)\n",
    "    if bn is True:\n",
    "        y = layers.BatchNormalization(momentum = 0.9, epsilon=1e-5)(y)\n",
    "    y = layers.ReLU()(y)\n",
    "    return y"
   ]
  },
  {
   "cell_type": "code",
   "execution_count": 6,
   "metadata": {},
   "outputs": [],
   "source": [
    "def encoder_net(y):\n",
    "    y = encoder_block(y, 32, (5, 5), (4, 4), bn = False)\n",
    "    y = encoder_block(y, 128, (5, 5), (4, 4))\n",
    "    y = encoder_block(y, 256, (5, 5), (4, 4))\n",
    "    y = encoder_block(y, 256, (5, 5), (4, 4))\n",
    "#    y = encoder_block(y, 256, (5, 5), (2, 2))\n",
    "#   y = encoder_block(y, 256, (5, 5), (4, 4))\n",
    "#    y = encoder_block(y, 256, (5, 5), (2, 2))\n",
    "#    y = encoder_block(y, 256, (5, 5), (4, 4))\n",
    "#    y = encoder_block(y, 256, (5, 5), (2, 2))\n",
    "#     y = layers.Flatten()(y)\n",
    "#     y = layers.Dense(256, \n",
    "#                      kernel_initializer = keras.initializers.RandomNormal(stddev=0.02))(y)\n",
    "#     y = layers.BatchNormalization(momentum = 0.9, epsilon=1e-5)(y)\n",
    "#     y = layers.ReLU()(y)\n",
    "    return y"
   ]
  },
  {
   "cell_type": "code",
   "execution_count": 7,
   "metadata": {},
   "outputs": [],
   "source": [
    "def decoder_block(x, _filters, _kernel_size, _strides, dropout = False):\n",
    "    y = layers.Conv2DTranspose(filters = _filters, kernel_size = _kernel_size, \n",
    "                               strides=_strides, padding=\"same\",\n",
    "                               kernel_initializer=keras.initializers.RandomNormal(stddev=0.02))(x)\n",
    "    y = layers.BatchNormalization(momentum = 0.9, epsilon=1e-5)(y)\n",
    "    if dropout is True:\n",
    "        y = layers.Dropout(0.5)(y)\n",
    "    y = layers.ReLU()(y)\n",
    "    return y"
   ]
  },
  {
   "cell_type": "code",
   "execution_count": 8,
   "metadata": {},
   "outputs": [],
   "source": [
    "def decoder_net(y):\n",
    "#     y = layers.Dense(8*8*256, \n",
    "#                      kernel_initializer = keras.initializers.RandomNormal(stddev=0.02))(y)\n",
    "\n",
    "#     y = layers.BatchNormalization(momentum = 0.9, epsilon=1e-5)(y)\n",
    "#     y = layers.ReLU()(y)\n",
    "#     y = layers.Reshape((8, 8, 256))(y)\n",
    "#    y = decoder_block(y, 256, (5, 5), (4, 4))\n",
    "#    y = decoder_block(y, 256, (5, 5), (2, 2))\n",
    "#    y = decoder_block(y, 256, (5, 5), (4, 4))\n",
    "#    y = decoder_block(y, 256, (5, 5), (2, 2))\n",
    "    y = decoder_block(y, 256, (5, 5), (4, 4))\n",
    "#    y = decoder_block(y, 256, (5, 5), (2, 2), False)\n",
    "    y = decoder_block(y, 256, (5, 5), (4, 4), False)\n",
    "    y = decoder_block(y, 128, (5, 5), (4, 4), False)\n",
    "    #print(y._keras_shape)\n",
    "    y = decoder_block(y, 32, (5, 5), (4, 4), False)\n",
    "    y = layers.Conv2D(filters = 1, kernel_size = (5, 5), padding = \"same\",\n",
    "                      activation=\"tanh\",\n",
    "                      kernel_initializer = keras.initializers.RandomNormal(stddev=0.02))(y)\n",
    "    #y = layers.Softmax(axis = -1)(y)\n",
    "    return y"
   ]
  },
  {
   "cell_type": "code",
   "execution_count": 9,
   "metadata": {},
   "outputs": [],
   "source": [
    "def fusionnet(inTensor1, inTensor2):\n",
    "    out1 = encoder_net(inTensor1)\n",
    "    out2 = encoder_net(inTensor2)\n",
    "    x = layers.Concatenate(axis = -1)([out1, out2])\n",
    "    y = decoder_net(x)\n",
    "    return y"
   ]
  },
  {
   "cell_type": "code",
   "execution_count": 10,
   "metadata": {},
   "outputs": [],
   "source": [
    "def fusionnetPos(y):\n",
    "    y, inTensor1, inTensor2 = y\n",
    "#     # crop the input images to the same size as network output.\n",
    "#     inCrop1 = layers.Cropping2D(cropping=((8, 8), (8, 8)))(inTensor1)\n",
    "#     inCrop2 = layers.Cropping2D(cropping=((8, 8), (8, 8)))(inTensor2)\n",
    "    y = K.tile(y, [1, 1, 1, 3])\n",
    "    y1 = layers.Multiply()([inTensor1, (1+y)/2])\n",
    "    y2 = layers.Multiply()([inTensor2, 1-(1+y)/2])\n",
    "    y = layers.Add()([y1, y2])\n",
    "    return y"
   ]
  },
  {
   "cell_type": "code",
   "execution_count": 11,
   "metadata": {},
   "outputs": [],
   "source": [
    "img1 = layers.Input(shape=(256, 256, 3))\n",
    "img2 = layers.Input(shape=(256, 256, 3))\n",
    "intermed = fusionnet(img1, img2) # intermed: mask layer\n",
    "\n",
    "pred = layers.Lambda(fusionnetPos)([intermed, img1, img2])"
   ]
  },
  {
   "cell_type": "code",
   "execution_count": 12,
   "metadata": {
    "scrolled": true
   },
   "outputs": [
    {
     "name": "stdout",
     "output_type": "stream",
     "text": [
      "__________________________________________________________________________________________________\n",
      "Layer (type)                    Output Shape         Param #     Connected to                     \n",
      "==================================================================================================\n",
      "input_1 (InputLayer)            (None, 256, 256, 3)  0                                            \n",
      "__________________________________________________________________________________________________\n",
      "input_2 (InputLayer)            (None, 256, 256, 3)  0                                            \n",
      "__________________________________________________________________________________________________\n",
      "conv2d_1 (Conv2D)               (None, 64, 64, 32)   2432        input_1[0][0]                    \n",
      "__________________________________________________________________________________________________\n",
      "conv2d_5 (Conv2D)               (None, 64, 64, 32)   2432        input_2[0][0]                    \n",
      "__________________________________________________________________________________________________\n",
      "re_lu_1 (ReLU)                  (None, 64, 64, 32)   0           conv2d_1[0][0]                   \n",
      "__________________________________________________________________________________________________\n",
      "re_lu_5 (ReLU)                  (None, 64, 64, 32)   0           conv2d_5[0][0]                   \n",
      "__________________________________________________________________________________________________\n",
      "conv2d_2 (Conv2D)               (None, 16, 16, 128)  102528      re_lu_1[0][0]                    \n",
      "__________________________________________________________________________________________________\n",
      "conv2d_6 (Conv2D)               (None, 16, 16, 128)  102528      re_lu_5[0][0]                    \n",
      "__________________________________________________________________________________________________\n",
      "batch_normalization_1 (BatchNor (None, 16, 16, 128)  512         conv2d_2[0][0]                   \n",
      "__________________________________________________________________________________________________\n",
      "batch_normalization_4 (BatchNor (None, 16, 16, 128)  512         conv2d_6[0][0]                   \n",
      "__________________________________________________________________________________________________\n",
      "re_lu_2 (ReLU)                  (None, 16, 16, 128)  0           batch_normalization_1[0][0]      \n",
      "__________________________________________________________________________________________________\n",
      "re_lu_6 (ReLU)                  (None, 16, 16, 128)  0           batch_normalization_4[0][0]      \n",
      "__________________________________________________________________________________________________\n",
      "conv2d_3 (Conv2D)               (None, 4, 4, 256)    819456      re_lu_2[0][0]                    \n",
      "__________________________________________________________________________________________________\n",
      "conv2d_7 (Conv2D)               (None, 4, 4, 256)    819456      re_lu_6[0][0]                    \n",
      "__________________________________________________________________________________________________\n",
      "batch_normalization_2 (BatchNor (None, 4, 4, 256)    1024        conv2d_3[0][0]                   \n",
      "__________________________________________________________________________________________________\n",
      "batch_normalization_5 (BatchNor (None, 4, 4, 256)    1024        conv2d_7[0][0]                   \n",
      "__________________________________________________________________________________________________\n",
      "re_lu_3 (ReLU)                  (None, 4, 4, 256)    0           batch_normalization_2[0][0]      \n",
      "__________________________________________________________________________________________________\n",
      "re_lu_7 (ReLU)                  (None, 4, 4, 256)    0           batch_normalization_5[0][0]      \n",
      "__________________________________________________________________________________________________\n",
      "conv2d_4 (Conv2D)               (None, 1, 1, 256)    1638656     re_lu_3[0][0]                    \n",
      "__________________________________________________________________________________________________\n",
      "conv2d_8 (Conv2D)               (None, 1, 1, 256)    1638656     re_lu_7[0][0]                    \n",
      "__________________________________________________________________________________________________\n",
      "batch_normalization_3 (BatchNor (None, 1, 1, 256)    1024        conv2d_4[0][0]                   \n",
      "__________________________________________________________________________________________________\n",
      "batch_normalization_6 (BatchNor (None, 1, 1, 256)    1024        conv2d_8[0][0]                   \n",
      "__________________________________________________________________________________________________\n",
      "re_lu_4 (ReLU)                  (None, 1, 1, 256)    0           batch_normalization_3[0][0]      \n",
      "__________________________________________________________________________________________________\n",
      "re_lu_8 (ReLU)                  (None, 1, 1, 256)    0           batch_normalization_6[0][0]      \n",
      "__________________________________________________________________________________________________\n",
      "concatenate_1 (Concatenate)     (None, 1, 1, 512)    0           re_lu_4[0][0]                    \n",
      "                                                                 re_lu_8[0][0]                    \n",
      "__________________________________________________________________________________________________\n",
      "conv2d_transpose_1 (Conv2DTrans (None, 4, 4, 256)    3277056     concatenate_1[0][0]              \n",
      "__________________________________________________________________________________________________\n",
      "batch_normalization_7 (BatchNor (None, 4, 4, 256)    1024        conv2d_transpose_1[0][0]         \n",
      "__________________________________________________________________________________________________\n",
      "re_lu_9 (ReLU)                  (None, 4, 4, 256)    0           batch_normalization_7[0][0]      \n",
      "__________________________________________________________________________________________________\n",
      "conv2d_transpose_2 (Conv2DTrans (None, 16, 16, 256)  1638656     re_lu_9[0][0]                    \n",
      "__________________________________________________________________________________________________\n",
      "batch_normalization_8 (BatchNor (None, 16, 16, 256)  1024        conv2d_transpose_2[0][0]         \n",
      "__________________________________________________________________________________________________\n",
      "re_lu_10 (ReLU)                 (None, 16, 16, 256)  0           batch_normalization_8[0][0]      \n",
      "__________________________________________________________________________________________________\n",
      "conv2d_transpose_3 (Conv2DTrans (None, 64, 64, 128)  819328      re_lu_10[0][0]                   \n",
      "__________________________________________________________________________________________________\n",
      "batch_normalization_9 (BatchNor (None, 64, 64, 128)  512         conv2d_transpose_3[0][0]         \n",
      "__________________________________________________________________________________________________\n",
      "re_lu_11 (ReLU)                 (None, 64, 64, 128)  0           batch_normalization_9[0][0]      \n",
      "__________________________________________________________________________________________________\n",
      "conv2d_transpose_4 (Conv2DTrans (None, 256, 256, 32) 102432      re_lu_11[0][0]                   \n",
      "__________________________________________________________________________________________________\n",
      "batch_normalization_10 (BatchNo (None, 256, 256, 32) 128         conv2d_transpose_4[0][0]         \n",
      "__________________________________________________________________________________________________\n",
      "re_lu_12 (ReLU)                 (None, 256, 256, 32) 0           batch_normalization_10[0][0]     \n",
      "__________________________________________________________________________________________________\n",
      "conv2d_9 (Conv2D)               (None, 256, 256, 1)  801         re_lu_12[0][0]                   \n",
      "__________________________________________________________________________________________________\n",
      "lambda_1 (Lambda)               (None, 256, 256, 3)  0           conv2d_9[0][0]                   \n",
      "                                                                 input_1[0][0]                    \n",
      "                                                                 input_2[0][0]                    \n",
      "==================================================================================================\n",
      "Total params: 10,972,225\n",
      "Trainable params: 10,968,321\n",
      "Non-trainable params: 3,904\n",
      "__________________________________________________________________________________________________\n"
     ]
    }
   ],
   "source": [
    "'''2 outputs: 'pred' for GAN loss and 'intermed' for mask loss'''\n",
    "generator = Model(inputs = [img1, img2], outputs = [pred, intermed])\n",
    "generator.summary()"
   ]
  },
  {
   "cell_type": "code",
   "execution_count": 13,
   "metadata": {},
   "outputs": [
    {
     "name": "stdout",
     "output_type": "stream",
     "text": [
      "Epoch 1/20\n",
      "800/800 [==============================] - 21s 26ms/step - loss: 0.0085 - lambda_1_loss: 0.0085 - conv2d_9_loss: 0.3346\n",
      "Epoch 2/20\n",
      "800/800 [==============================] - 14s 18ms/step - loss: 0.0074 - lambda_1_loss: 0.0074 - conv2d_9_loss: 0.3279\n",
      "Epoch 3/20\n",
      "800/800 [==============================] - 15s 18ms/step - loss: 0.0067 - lambda_1_loss: 0.0067 - conv2d_9_loss: 0.3876\n",
      "Epoch 4/20\n",
      "800/800 [==============================] - 14s 18ms/step - loss: 0.0060 - lambda_1_loss: 0.0060 - conv2d_9_loss: 0.4082\n",
      "Epoch 5/20\n",
      "800/800 [==============================] - 14s 18ms/step - loss: 0.0058 - lambda_1_loss: 0.0058 - conv2d_9_loss: 0.4739\n",
      "Epoch 6/20\n",
      "800/800 [==============================] - 14s 18ms/step - loss: 0.0054 - lambda_1_loss: 0.0054 - conv2d_9_loss: 0.4788\n",
      "Epoch 7/20\n",
      "800/800 [==============================] - 14s 18ms/step - loss: 0.0050 - lambda_1_loss: 0.0050 - conv2d_9_loss: 0.4703\n",
      "Epoch 8/20\n",
      "800/800 [==============================] - 14s 18ms/step - loss: 0.0048 - lambda_1_loss: 0.0048 - conv2d_9_loss: 0.4846\n",
      "Epoch 9/20\n",
      "800/800 [==============================] - 14s 18ms/step - loss: 0.0045 - lambda_1_loss: 0.0045 - conv2d_9_loss: 0.5035\n",
      "Epoch 10/20\n",
      "800/800 [==============================] - 14s 18ms/step - loss: 0.0043 - lambda_1_loss: 0.0043 - conv2d_9_loss: 0.5098\n",
      "Epoch 11/20\n",
      "800/800 [==============================] - 14s 18ms/step - loss: 0.0042 - lambda_1_loss: 0.0042 - conv2d_9_loss: 0.5249\n",
      "Epoch 12/20\n",
      "800/800 [==============================] - 14s 18ms/step - loss: 0.0041 - lambda_1_loss: 0.0041 - conv2d_9_loss: 0.5275\n",
      "Epoch 13/20\n",
      "800/800 [==============================] - 14s 18ms/step - loss: 0.0040 - lambda_1_loss: 0.0040 - conv2d_9_loss: 0.5416\n",
      "Epoch 14/20\n",
      "800/800 [==============================] - 14s 18ms/step - loss: 0.0039 - lambda_1_loss: 0.0039 - conv2d_9_loss: 0.5320\n",
      "Epoch 15/20\n",
      "800/800 [==============================] - 14s 18ms/step - loss: 0.0039 - lambda_1_loss: 0.0039 - conv2d_9_loss: 0.5328\n",
      "Epoch 16/20\n",
      "800/800 [==============================] - 14s 18ms/step - loss: 0.0038 - lambda_1_loss: 0.0038 - conv2d_9_loss: 0.5480\n",
      "Epoch 17/20\n",
      "800/800 [==============================] - 14s 18ms/step - loss: 0.0038 - lambda_1_loss: 0.0038 - conv2d_9_loss: 0.5537\n",
      "Epoch 18/20\n",
      "800/800 [==============================] - 14s 18ms/step - loss: 0.0037 - lambda_1_loss: 0.0037 - conv2d_9_loss: 0.5511\n",
      "Epoch 19/20\n",
      "800/800 [==============================] - 14s 18ms/step - loss: 0.0036 - lambda_1_loss: 0.0036 - conv2d_9_loss: 0.5711\n",
      "Epoch 20/20\n",
      "800/800 [==============================] - 14s 18ms/step - loss: 0.0036 - lambda_1_loss: 0.0036 - conv2d_9_loss: 0.5620\n"
     ]
    },
    {
     "data": {
      "text/plain": [
       "<keras.callbacks.History at 0x7f96380e1ef0>"
      ]
     },
     "execution_count": 13,
     "metadata": {},
     "output_type": "execute_result"
    }
   ],
   "source": [
    "'''train on generator using MSE of pred & mask.'''\n",
    "generator.compile(loss=[losses.mean_squared_error,'mse'], loss_weights=[1,0], optimizer= _optimizer)\n",
    "generator.fit([x_train1/127.5-1, x_train2/127.5-1], [y_train/127.5-1, mask_train/127.5-1], batch_size = 1, epochs = 20)\n",
    "# batchSize = 16\n",
    "# losses = []\n",
    "# for e in range(1000):\n",
    "#     rand_idx = np.random.randint(0, x_train1.shape[0], size = batchSize)\n",
    "#     img_batch1 = x_train1[rand_idx, :, :, :].astype('float16')/127.5-1\n",
    "#     img_batch2 = x_train2[rand_idx, :, :, :].astype('float16')/127.5-1\n",
    "#     mask_batch = mask_train[rand_idx, :, :, :].astype('float16')/127.5-1\n",
    "#     y_batch = y_train[rand_idx, :, :, :].astype('float16')/127.5-1\n",
    "#     loss = generator.train_on_batch([img_batch1, img_batch2], [y_batch, mask_batch])\n",
    "#     print(loss[0])"
   ]
  },
  {
   "cell_type": "code",
   "execution_count": 16,
   "metadata": {},
   "outputs": [
    {
     "name": "stdout",
     "output_type": "stream",
     "text": [
      "1.0\n"
     ]
    }
   ],
   "source": [
    "prediction, a= generator.predict([x_test1[:10, :, :, :]/127.5-1, x_test2[:10, :, :, :]/127.5-1])\n",
    "get_layer_output = K.function([generator.layers[0].input, generator.layers[1].input],\n",
    "                                  [generator.layers[-2].output])\n",
    "\n",
    "layer_output = np.array(get_layer_output([x_test1[:10, :, :, :]/127.5-1, x_test2[:10, :, :, :]/127.5-1])[0])\n",
    "print(prediction.max())"
   ]
  },
  {
   "cell_type": "code",
   "execution_count": 19,
   "metadata": {},
   "outputs": [
    {
     "data": {
      "image/png": "[encoded data removed]",
      "text/plain": [
       "<Figure size 864x864 with 6 Axes>"
      ]
     },
     "metadata": {
      "needs_background": "light"
     },
     "output_type": "display_data"
    }
   ],
   "source": [
    "imgIdx = 1\n",
    "fig=plt.figure(figsize=(12, 12))\n",
    "columns = 6\n",
    "rows = 1\n",
    "fig.add_subplot(rows, columns, 1)\n",
    "plt.imshow(x_test1[imgIdx, :, :, :])\n",
    "fig.add_subplot(rows, columns, 2)\n",
    "plt.imshow(x_test2[imgIdx, :, :, :])\n",
    "fig.add_subplot(rows, columns, 3)\n",
    "plt.imshow(mask_test[imgIdx, :, :, 0])\n",
    "fig.add_subplot(rows, columns, 4)\n",
    "plt.imshow((layer_output[imgIdx, :, :, 0]+1)/2)\n",
    "fig.add_subplot(rows, columns, 5)\n",
    "plt.imshow((prediction[imgIdx, :, :, :]+1)/2)\n",
    "fig.add_subplot(rows, columns, 6)\n",
    "plt.imshow(y_test[imgIdx, :, :, :])\n",
    "plt.show()\n",
    "# fig.savefig(dataPath+\"results/struc_loss{:.2E}.png\".format(lambda_tv))"
   ]
  },
  {
   "cell_type": "code",
   "execution_count": null,
   "metadata": {},
   "outputs": [],
   "source": []
  }
 ],
 "metadata": {
  "kernelspec": {
   "display_name": "Python 3",
   "language": "python",
   "name": "python3"
  },
  "language_info": {
   "codemirror_mode": {
    "name": "ipython",
    "version": 3
   },
   "file_extension": ".py",
   "mimetype": "text/x-python",
   "name": "python",
   "nbconvert_exporter": "python",
   "pygments_lexer": "ipython3",
   "version": "3.6.7"
  },
  "widgets": {
   "application/vnd.jupyter.widget-state+json": {
    "state": {},
    "version_major": 2,
    "version_minor": 0
   }
  }
 },
 "nbformat": 4,
 "nbformat_minor": 2
}
