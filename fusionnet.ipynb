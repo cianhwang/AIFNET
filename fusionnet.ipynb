{
 "cells": [
  {
   "cell_type": "code",
   "execution_count": 1,
   "metadata": {},
   "outputs": [
    {
     "name": "stderr",
     "output_type": "stream",
     "text": [
      "Using TensorFlow backend.\n"
     ]
    }
   ],
   "source": [
    "import tensorflow as tf\n",
    "import keras\n",
    "from keras import layers\n",
    "from keras.models import Model, Sequential\n",
    "from keras import backend as K\n",
    "from sklearn.metrics import mean_squared_error\n",
    "#from skimage.measure import compare_ssim as SSIM\n",
    "import numpy as np\n",
    "from sklearn.model_selection import train_test_split\n",
    "from keras.optimizers import Adam\n",
    "_optimizer = Adam(0.0002, 0.5)\n",
    "_optimizer2 = Adam(0.001, 0.9)\n",
    "from keras import losses\n",
    "\n",
    "# from tensorflow.keras import layers\n",
    "# from tensorflow.keras.models import Model\n",
    "import cv2\n",
    "import matplotlib.pyplot as plt\n",
    "from IPython import display\n",
    "from tqdm import tqdm"
   ]
  },
  {
   "cell_type": "code",
   "execution_count": 2,
   "metadata": {},
   "outputs": [],
   "source": [
    "def load_imgs(path, number, train_type):\n",
    "    result=np.empty((number, 72, 72, 3), dtype=\"float64\")\n",
    "    for i in range(number):\n",
    "        I = cv2.imread(path + \"{:05}_{}.jpeg\".format(i+1, train_type))\n",
    "        result[i, :, :, :] = I\n",
    "    return result/127.5-1"
   ]
  },
  {
   "cell_type": "code",
   "execution_count": 3,
   "metadata": {},
   "outputs": [],
   "source": [
    "'''load images, parse test/validation set'''\n",
    "dataNum = 4000\n",
    "dataPath = \"/home/qian/Downloads/testcase_mass/\"\n",
    "x1 = load_imgs(dataPath, dataNum, 1)\n",
    "x2 = load_imgs(dataPath, dataNum, 2)\n",
    "y = load_imgs(dataPath, dataNum, 0)\n",
    "y = y[:, 8:-8, 8:-8, :]\n",
    "# mask1 = load_imgs(dataPath, dataNum, 4)\n",
    "# mask1 = mask1[:, 8:-8, 8:-8, :1]\n",
    "# mask2 = 1-mask1\n",
    "# mask = np.concatenate((mask1, mask2), axis = 3)\n",
    "mask = load_imgs(dataPath, dataNum, 4)\n",
    "mask = mask[:, 8:-8, 8:-8, :1]\n",
    "x_train1, x_test1, x_train2, x_test2, y_train, y_test, mask_train, mask_test = train_test_split(\n",
    "    x1, x2, y, mask, test_size=0.25)"
   ]
  },
  {
   "cell_type": "code",
   "execution_count": 4,
   "metadata": {},
   "outputs": [],
   "source": [
    "def pre_convblock(x):\n",
    "    y = layers.Conv2D(filters = 16, kernel_size = (5, 5), padding = \"valid\", \n",
    "                     kernel_initializer = keras.initializers.RandomNormal(stddev=0.02))(x)\n",
    "    y = layers.BatchNormalization(momentum = 0.9, epsilon=1e-5)(y)\n",
    "    y = layers.ReLU()(y)\n",
    "    y = layers.Conv2D(filters = 32, kernel_size = (5, 5), padding = \"valid\", \n",
    "                     kernel_initializer = keras.initializers.RandomNormal(stddev=0.02))(y)\n",
    "    y = layers.BatchNormalization(momentum = 0.9, epsilon=1e-5)(y)\n",
    "    y = layers.ReLU()(y)\n",
    "    y = layers.Conv2D(filters = 32, kernel_size = (5, 5), padding = \"valid\", \n",
    "                     kernel_initializer = keras.initializers.RandomNormal(stddev=0.02))(y)\n",
    "    y = layers.BatchNormalization(momentum = 0.9, epsilon=1e-5)(y)\n",
    "    y = layers.ReLU()(y)\n",
    "    return y"
   ]
  },
  {
   "cell_type": "code",
   "execution_count": 6,
   "metadata": {},
   "outputs": [],
   "source": [
    "def post_convblock(x):\n",
    "    y = layers.Conv2D(filters = 64, kernel_size=(3, 3), padding = \"valid\",\n",
    "                     kernel_initializer = keras.initializers.RandomNormal(stddev=0.02))(x)\n",
    "    y = layers.BatchNormalization(momentum = 0.9, epsilon=1e-5)(y)\n",
    "    y = layers.ReLU()(y)\n",
    "    y = layers.Conv2D(filters = 32, kernel_size=(1, 1), padding = \"valid\",\n",
    "                     kernel_initializer = keras.initializers.RandomNormal(stddev=0.02))(y)\n",
    "    y = layers.BatchNormalization(momentum = 0.9, epsilon=1e-5)(y)\n",
    "    y = layers.ReLU()(y)\n",
    "    y = layers.Conv2D(filters = 1, kernel_size=(3, 3), padding = \"valid\", activation = 'tanh',\n",
    "                     kernel_initializer = keras.initializers.RandomNormal(stddev=0.02))(y)\n",
    "    \n",
    "    #y = layers.Softmax(axis = -1)(y)\n",
    "    return y"
   ]
  },
  {
   "cell_type": "code",
   "execution_count": 7,
   "metadata": {},
   "outputs": [],
   "source": [
    "# input: out-of-focus image block A & block B, which denote the same area of the whole picture.\n",
    "#        each: 48x48x3\n",
    "# output: \n",
    "def fusionnet(inTensor1, inTensor2):\n",
    "    out1 = pre_convblock(inTensor1)\n",
    "    out2 = pre_convblock(inTensor2)\n",
    "\n",
    "    x = layers.Concatenate(axis = -1)([out1, out2])\n",
    "    y = post_convblock(x)\n",
    "    \n",
    "    return y"
   ]
  },
  {
   "cell_type": "code",
   "execution_count": 8,
   "metadata": {},
   "outputs": [],
   "source": [
    "def fusionnetPos(y):\n",
    "    y, inTensor1, inTensor2 = y\n",
    "    # crop the input images to the same size as network output.\n",
    "    inCrop1 = layers.Cropping2D(cropping=((8, 8), (8, 8)))(inTensor1)\n",
    "    inCrop2 = layers.Cropping2D(cropping=((8, 8), (8, 8)))(inTensor2)\n",
    "    y = K.tile(y, [1, 1, 1, 3])     # extend y1&y2 dimension to 3, consistant to color channels\n",
    "    y1 = layers.Multiply()([inCrop1, (1+y)/2])\n",
    "    y2 = layers.Multiply()([inCrop2, 1-(1+y)/2])\n",
    "    y = layers.Add()([y1, y2])\n",
    "    return y"
   ]
  },
  {
   "cell_type": "code",
   "execution_count": 9,
   "metadata": {},
   "outputs": [],
   "source": [
    "img1 = layers.Input(shape=(72, 72, 3))\n",
    "img2 = layers.Input(shape=(72, 72, 3))\n",
    "intermed = fusionnet(img1, img2) # intermed: mask layer\n",
    "pred = layers.Lambda(fusionnetPos)([intermed, img1, img2])"
   ]
  },
  {
   "cell_type": "code",
   "execution_count": 10,
   "metadata": {
    "scrolled": true
   },
   "outputs": [
    {
     "name": "stdout",
     "output_type": "stream",
     "text": [
      "__________________________________________________________________________________________________\n",
      "Layer (type)                    Output Shape         Param #     Connected to                     \n",
      "==================================================================================================\n",
      "input_1 (InputLayer)            (None, 72, 72, 3)    0                                            \n",
      "__________________________________________________________________________________________________\n",
      "input_2 (InputLayer)            (None, 72, 72, 3)    0                                            \n",
      "__________________________________________________________________________________________________\n",
      "conv2d_1 (Conv2D)               (None, 68, 68, 16)   1216        input_1[0][0]                    \n",
      "__________________________________________________________________________________________________\n",
      "conv2d_4 (Conv2D)               (None, 68, 68, 16)   1216        input_2[0][0]                    \n",
      "__________________________________________________________________________________________________\n",
      "batch_normalization_1 (BatchNor (None, 68, 68, 16)   64          conv2d_1[0][0]                   \n",
      "__________________________________________________________________________________________________\n",
      "batch_normalization_4 (BatchNor (None, 68, 68, 16)   64          conv2d_4[0][0]                   \n",
      "__________________________________________________________________________________________________\n",
      "re_lu_1 (ReLU)                  (None, 68, 68, 16)   0           batch_normalization_1[0][0]      \n",
      "__________________________________________________________________________________________________\n",
      "re_lu_4 (ReLU)                  (None, 68, 68, 16)   0           batch_normalization_4[0][0]      \n",
      "__________________________________________________________________________________________________\n",
      "conv2d_2 (Conv2D)               (None, 64, 64, 32)   12832       re_lu_1[0][0]                    \n",
      "__________________________________________________________________________________________________\n",
      "conv2d_5 (Conv2D)               (None, 64, 64, 32)   12832       re_lu_4[0][0]                    \n",
      "__________________________________________________________________________________________________\n",
      "batch_normalization_2 (BatchNor (None, 64, 64, 32)   128         conv2d_2[0][0]                   \n",
      "__________________________________________________________________________________________________\n",
      "batch_normalization_5 (BatchNor (None, 64, 64, 32)   128         conv2d_5[0][0]                   \n",
      "__________________________________________________________________________________________________\n",
      "re_lu_2 (ReLU)                  (None, 64, 64, 32)   0           batch_normalization_2[0][0]      \n",
      "__________________________________________________________________________________________________\n",
      "re_lu_5 (ReLU)                  (None, 64, 64, 32)   0           batch_normalization_5[0][0]      \n",
      "__________________________________________________________________________________________________\n",
      "conv2d_3 (Conv2D)               (None, 60, 60, 32)   25632       re_lu_2[0][0]                    \n",
      "__________________________________________________________________________________________________\n",
      "conv2d_6 (Conv2D)               (None, 60, 60, 32)   25632       re_lu_5[0][0]                    \n",
      "__________________________________________________________________________________________________\n",
      "batch_normalization_3 (BatchNor (None, 60, 60, 32)   128         conv2d_3[0][0]                   \n",
      "__________________________________________________________________________________________________\n",
      "batch_normalization_6 (BatchNor (None, 60, 60, 32)   128         conv2d_6[0][0]                   \n",
      "__________________________________________________________________________________________________\n",
      "re_lu_3 (ReLU)                  (None, 60, 60, 32)   0           batch_normalization_3[0][0]      \n",
      "__________________________________________________________________________________________________\n",
      "re_lu_6 (ReLU)                  (None, 60, 60, 32)   0           batch_normalization_6[0][0]      \n",
      "__________________________________________________________________________________________________\n",
      "concatenate_1 (Concatenate)     (None, 60, 60, 64)   0           re_lu_3[0][0]                    \n",
      "                                                                 re_lu_6[0][0]                    \n",
      "__________________________________________________________________________________________________\n",
      "conv2d_7 (Conv2D)               (None, 58, 58, 64)   36928       concatenate_1[0][0]              \n",
      "__________________________________________________________________________________________________\n",
      "batch_normalization_7 (BatchNor (None, 58, 58, 64)   256         conv2d_7[0][0]                   \n",
      "__________________________________________________________________________________________________\n",
      "re_lu_7 (ReLU)                  (None, 58, 58, 64)   0           batch_normalization_7[0][0]      \n",
      "__________________________________________________________________________________________________\n",
      "conv2d_8 (Conv2D)               (None, 58, 58, 32)   2080        re_lu_7[0][0]                    \n",
      "__________________________________________________________________________________________________\n",
      "batch_normalization_8 (BatchNor (None, 58, 58, 32)   128         conv2d_8[0][0]                   \n",
      "__________________________________________________________________________________________________\n",
      "re_lu_8 (ReLU)                  (None, 58, 58, 32)   0           batch_normalization_8[0][0]      \n",
      "__________________________________________________________________________________________________\n",
      "conv2d_9 (Conv2D)               (None, 56, 56, 1)    289         re_lu_8[0][0]                    \n",
      "__________________________________________________________________________________________________\n",
      "lambda_1 (Lambda)               (None, 56, 56, 3)    0           conv2d_9[0][0]                   \n",
      "                                                                 input_1[0][0]                    \n",
      "                                                                 input_2[0][0]                    \n",
      "==================================================================================================\n",
      "Total params: 119,681\n",
      "Trainable params: 119,169\n",
      "Non-trainable params: 512\n",
      "__________________________________________________________________________________________________\n"
     ]
    }
   ],
   "source": [
    "'''2 outputs: 'pred' for GAN loss and 'intermed' for mask loss'''\n",
    "generator = Model(inputs = [img1, img2], outputs = [pred, intermed])\n",
    "generator.summary()"
   ]
  },
  {
   "cell_type": "code",
   "execution_count": 11,
   "metadata": {},
   "outputs": [],
   "source": [
    "'''tv_loss: designed constraint on mask. WORKS NOT WELL.'''\n",
    "\n",
    "def tv_loss(y_true, y_pred):\n",
    "    lambda_mse = 1\n",
    "    #mapping = tf.cast(y_pred > 0.5, y_pred.dtype)\n",
    "    #loss = tf.reduce_mean(tf.image.total_variation(mapping))\n",
    "\n",
    "#     mapping = 0.25 - tf.square(y_pred-0.5) # 0.25-(x-0.5)^2\n",
    "#     sigma = 0.2\n",
    "#     mu = 0.5\n",
    "#     mapping = tf.exp(-0.5*tf.square((y_pred - mu)/sigma))\n",
    "    mapping = tf.square(y_pred+1)*tf.square(y_pred-1)/(tf.square(y_pred)+1)\n",
    "    loss = (1-lambda_mse)*tf.reduce_mean(mapping) + lambda_mse*tf.reduce_mean(tf.square(y_true-y_pred))\n",
    "    return loss"
   ]
  },
  {
   "cell_type": "code",
   "execution_count": 15,
   "metadata": {},
   "outputs": [
    {
     "name": "stdout",
     "output_type": "stream",
     "text": [
      "Epoch 1/10\n",
      "3000/3000 [==============================] - 10s 3ms/step - loss: 0.5259 - lambda_1_loss: 0.0048 - conv2d_9_loss: 0.5259\n",
      "Epoch 2/10\n",
      "3000/3000 [==============================] - 8s 3ms/step - loss: 0.4791 - lambda_1_loss: 0.0046 - conv2d_9_loss: 0.4791\n",
      "Epoch 3/10\n",
      "3000/3000 [==============================] - 8s 3ms/step - loss: 0.4558 - lambda_1_loss: 0.0046 - conv2d_9_loss: 0.4558\n",
      "Epoch 4/10\n",
      "3000/3000 [==============================] - 8s 3ms/step - loss: 0.4490 - lambda_1_loss: 0.0046 - conv2d_9_loss: 0.4490\n",
      "Epoch 5/10\n",
      "3000/3000 [==============================] - 8s 3ms/step - loss: 0.4393 - lambda_1_loss: 0.0045 - conv2d_9_loss: 0.4393\n",
      "Epoch 6/10\n",
      "3000/3000 [==============================] - 8s 3ms/step - loss: 0.4342 - lambda_1_loss: 0.0046 - conv2d_9_loss: 0.4342\n",
      "Epoch 7/10\n",
      "3000/3000 [==============================] - 8s 3ms/step - loss: 0.4354 - lambda_1_loss: 0.0045 - conv2d_9_loss: 0.4354\n",
      "Epoch 8/10\n",
      "3000/3000 [==============================] - 8s 3ms/step - loss: 0.4336 - lambda_1_loss: 0.0045 - conv2d_9_loss: 0.4336\n",
      "Epoch 9/10\n",
      "3000/3000 [==============================] - 8s 3ms/step - loss: 0.4338 - lambda_1_loss: 0.0045 - conv2d_9_loss: 0.4338\n",
      "Epoch 10/10\n",
      "3000/3000 [==============================] - 8s 3ms/step - loss: 0.4356 - lambda_1_loss: 0.0045 - conv2d_9_loss: 0.4356\n"
     ]
    },
    {
     "data": {
      "text/plain": [
       "<keras.callbacks.History at 0x7f5c622b1b70>"
      ]
     },
     "execution_count": 15,
     "metadata": {},
     "output_type": "execute_result"
    }
   ],
   "source": [
    "'''train on generator using MSE of pred & mask.'''\n",
    "lambda_tv = 1\n",
    "generator.compile(loss=[losses.mean_squared_error, tv_loss], loss_weights=[0, lambda_tv], optimizer= _optimizer)\n",
    "generator.fit([x_train1, x_train2], \n",
    "              [y_train, mask_train],\n",
    "              batch_size=64, epochs=10)"
   ]
  },
  {
   "cell_type": "code",
   "execution_count": 16,
   "metadata": {},
   "outputs": [
    {
     "data": {
      "image/png": "[encoded data removed]",
      "text/plain": [
       "<Figure size 864x864 with 6 Axes>"
      ]
     },
     "metadata": {
      "needs_background": "light"
     },
     "output_type": "display_data"
    }
   ],
   "source": [
    "prediction, a = generator.predict([x1[:100, :, :, :], x2[:100, :, :, :]])\n",
    "get_layer_output = K.function([generator.layers[0].input, generator.layers[1].input],\n",
    "                                  [generator.layers[-2].output])\n",
    "\n",
    "layer_output = np.array(get_layer_output([x1[:100, :, :, :], x2[:100, :, :, :]])[0])\n",
    "\n",
    "imgIdx = 33\n",
    "fig=plt.figure(figsize=(12, 12))\n",
    "columns = 6\n",
    "rows = 1\n",
    "fig.add_subplot(rows, columns, 1)\n",
    "plt.imshow((x1[imgIdx, 8:-8, 8:-8, :]+1)/2)\n",
    "fig.add_subplot(rows, columns, 2)\n",
    "plt.imshow((x2[imgIdx, 8:-8, 8:-8, :]+1)/2)\n",
    "fig.add_subplot(rows, columns, 3)\n",
    "plt.imshow((mask[imgIdx, :, :, 0]+1)/2)\n",
    "fig.add_subplot(rows, columns, 4)\n",
    "plt.imshow((layer_output[imgIdx, :, :, 0]+1)/2)\n",
    "fig.add_subplot(rows, columns, 5)\n",
    "plt.imshow((prediction[imgIdx, :, :, :]+1)/2)\n",
    "fig.add_subplot(rows, columns, 6)\n",
    "plt.imshow((y[imgIdx, :, :, :]+1)/2)\n",
    "plt.show()\n",
    "# fig.savefig(dataPath+\"results/struc_loss{:.2E}.png\".format(lambda_tv))"
   ]
  },
  {
   "cell_type": "code",
   "execution_count": null,
   "metadata": {},
   "outputs": [],
   "source": [
    "def dis_block(x, _filters, _strides, bn = True):\n",
    "    y = layers.Conv2D(filters = _filters, kernel_size = (5, 5), strides = _strides, padding='same',\n",
    "                     kernel_initializer = keras.initializers.RandomNormal(stddev=0.02))(x)\n",
    "    if bn:\n",
    "        y = layers.BatchNormalization(momentum = 0.9, epsilon=1e-5)(y)\n",
    "        \n",
    "    y = layers.LeakyReLU(alpha=0.2)(y)\n",
    "    return y"
   ]
  },
  {
   "cell_type": "code",
   "execution_count": null,
   "metadata": {},
   "outputs": [],
   "source": [
    "def disnet(x):\n",
    "    y = dis_block(x, 32, (2, 2), bn = False)\n",
    "    y = dis_block(y, 128, (2, 2))\n",
    "    y = dis_block(y, 128, (2, 2))\n",
    "    #y = dis_block(y, 128, (1, 1))\n",
    "    #y = dis_block(y, 128, (2, 2))\n",
    "    #y = dis_block(y, 256, (1, 1))\n",
    "    y = layers.Flatten()(y)\n",
    "    y = layers.Dense(256, \n",
    "                    kernel_initializer = keras.initializers.RandomNormal(stddev=0.02))(y)\n",
    "    y = layers.Dense(1, activation='sigmoid')(y)\n",
    "    return y\n",
    "    return y"
   ]
  },
  {
   "cell_type": "code",
   "execution_count": null,
   "metadata": {},
   "outputs": [],
   "source": [
    "dis_input = layers.Input(shape=(56, 56, 3))\n",
    "dis_output = disnet(dis_input)\n",
    "discriminator = Model(inputs = dis_input, outputs = dis_output)\n",
    "discriminator.summary()"
   ]
  },
  {
   "cell_type": "code",
   "execution_count": null,
   "metadata": {},
   "outputs": [],
   "source": [
    "# discriminator.compile(loss='mse', optimizer= _optimizer)\n",
    "# y_fake = generator.predict([x_train1, x_train2])\n",
    "# dis_input = np.concatenate((y_fake, y_train), axis = 0)\n",
    "# label = np.append(np.zeros((y_fake.shape[0], )), np.ones((y_train.shape[0], )))\n",
    "\n",
    "# for e in range(20):\n",
    "#     discriminator.fit(dis_input, label)\n",
    "\n",
    "# label = discriminator.predict(x_test1[:, 8:-8, 8:-8, :])\n",
    "# print(np.sum(label < 0.5))\n",
    "# print(label)"
   ]
  },
  {
   "cell_type": "code",
   "execution_count": null,
   "metadata": {},
   "outputs": [],
   "source": [
    "def gannet(x):\n",
    "    img1, img2 = x\n",
    "    pred, intermed = generator([img1, img2])\n",
    "    prob = discriminator(pred)\n",
    "    discriminator.trainable = False\n",
    "    return (prob, intermed)"
   ]
  },
  {
   "cell_type": "code",
   "execution_count": null,
   "metadata": {},
   "outputs": [],
   "source": [
    "prob, intermed = gannet([img1, img2])\n",
    "gan = Model(inputs = [img1, img2], outputs= [prob, intermed])\n",
    "gan.summary()"
   ]
  },
  {
   "cell_type": "code",
   "execution_count": null,
   "metadata": {},
   "outputs": [],
   "source": [
    "# prediction = gan.predict([x1, x2])\n",
    "# mask = prediction[1]\n",
    "# plt.imshow(mask[6, :, :, 0])\n",
    "# mask_tensor = tf.convert_to_tensor(mask)\n",
    "# tv = tf.image.total_variation(mask_tensor)\n",
    "# sess = tf.Session()\n",
    "# loss = tv.eval(session=sess)\n",
    "\n",
    "# print(loss[:10]/32/32/2)"
   ]
  },
  {
   "cell_type": "code",
   "execution_count": null,
   "metadata": {},
   "outputs": [],
   "source": [
    "def plot_loss(losses):\n",
    "    display.clear_output(wait=True)\n",
    "    display.display(plt.gcf())\n",
    "    plt.figure(figsize=(10,8))\n",
    "    plt.plot(losses[\"d\"], label='discriminitive loss')\n",
    "    plt.plot(losses[\"g\"], label='generative loss')\n",
    "    plt.legend()\n",
    "    plt.show()"
   ]
  },
  {
   "cell_type": "code",
   "execution_count": null,
   "metadata": {},
   "outputs": [],
   "source": [
    "# prediction = generator.predict([x1[:1000, :, :, :], x2[:1000, :, :, :]])\n",
    "# # get_layer_output = K.function([generator.layers[0].input, generator.layers[1].input],\n",
    "# #                                   [generator.layers[-2].output])\n",
    "\n",
    "# # layer_output = np.array(get_layer_output([x_test1, x_test2])[0])\n",
    "# np.save(\"pred4test.npy\", prediction[0])"
   ]
  },
  {
   "cell_type": "code",
   "execution_count": null,
   "metadata": {},
   "outputs": [],
   "source": [
    "# prediction = np.load(\"pred4test.npy\")\n",
    "# plt.imshow((prediction[33, :, :, :]+1)/2)"
   ]
  },
  {
   "cell_type": "code",
   "execution_count": null,
   "metadata": {},
   "outputs": [],
   "source": [
    "# import time\n",
    "# start = time.time()\n",
    "# img_fake = prediction\n",
    "# img_valid = y_test\n",
    "# dis_input = np.concatenate((img_fake, img_valid), axis = 0)\n",
    "# label = np.append(np.zeros((1000, )), np.ones((1000, )))\n",
    "# # batchSize = 128\n",
    "# # for e in range(50):\n",
    "# #     rand_idx = np.random.randint(0, y_test.shape[0], size = batchSize)\n",
    "# #     y_batch = y_test[np.random.randint(0, y_test.shape[0], size = batchSize), :, :, :]\n",
    "# #     img_fake = prediction[rand_idx, :, :, :]\n",
    "# #     img_valid = y_batch\n",
    "# #     dis_input = np.concatenate((img_fake, img_valid), axis = 0)\n",
    "# #     label = np.append(np.zeros((batchSize, )), np.ones((batchSize, )))\n",
    "# discriminator.trainable = True\n",
    "# discriminator.compile(loss='binary_crossentropy', optimizer=_optimizer)\n",
    "# discriminator.fit(dis_input, label, epochs = 50)\n",
    "# print(\"--- %s seconds ---\" % (time.time() - start))\n",
    "\n",
    "# dispred = discriminator.predict(prediction)\n",
    "\n",
    "# ((dispred - 0.5) > 0).sum()"
   ]
  },
  {
   "cell_type": "code",
   "execution_count": null,
   "metadata": {},
   "outputs": [],
   "source": [
    "epoch = 50\n",
    "batchSize = 128\n",
    "losses = {\"d\":[], \"g\":[]}\n",
    "for e in tqdm(range(epoch)):\n",
    "    rand_idx = np.random.randint(0, x_train1.shape[0], size = batchSize)\n",
    "    img_batch1 = x_train1[rand_idx, :, :, :]\n",
    "    img_batch2 = x_train2[rand_idx, :, :, :]\n",
    "    mask_batch = mask_train[rand_idx, :, :, :]\n",
    "    y_batch = y_train[np.random.randint(0, y_train.shape[0], size = batchSize), :, :, 1:]\n",
    "    img_fake = generator.predict([img_batch1, img_batch2])[0]\n",
    "    img_valid = y_batch\n",
    "    dis_input = np.concatenate((img_fake, img_valid), axis = 0)\n",
    "    label = np.append(np.zeros((batchSize, )), np.ones((batchSize, )))\n",
    "\n",
    "    discriminator.trainable = True\n",
    "    discriminator.compile(loss='binary_crossentropy', optimizer=_optimizer)\n",
    "    d_loss = discriminator.train_on_batch(dis_input, label)\n",
    "    losses[\"d\"].append(d_loss)\n",
    "    \n",
    "    gan_label = np.ones((batchSize,))\n",
    "    discriminator.trainable = False\n",
    "    gan.compile(loss = ['binary_crossentropy', 'mse'], loss_weights=[0, 1], optimizer=_optimizer)\n",
    "\n",
    "    g_loss = gan.train_on_batch([img_batch1, img_batch2], [gan_label, mask_batch])\n",
    "    losses[\"g\"].append(g_loss[1])\n",
    "    \n",
    "    if e % 5 == 4:\n",
    "        plot_loss(losses)\n",
    "\n",
    "        imgIdx = 33\n",
    "        prediction = generator.predict([x1[imgIdx:imgIdx+1, :, :, :], x2[imgIdx:imgIdx+1, :, :, :]])[0]\n",
    "        #ssim = SSIM(y[imgIdx, :, :, :], prediction[0, :, :, :], data_range=prediction[0, :, :, :].max() - prediction[0, :, :, :].min(), multichannel=True)\n",
    "        #print(ssim)\n",
    "        \n",
    "        get_layer_output = K.function([generator.layers[0].input, generator.layers[1].input],\n",
    "                                          [generator.layers[-2].output])\n",
    "\n",
    "        layer_output = np.array(get_layer_output([x1[imgIdx:imgIdx+1, :, :, :], x2[imgIdx:imgIdx+1, :, :, :]])[0])\n",
    "\n",
    "        fig=plt.figure(figsize=(12, 12))\n",
    "        columns = 6\n",
    "        rows = 1\n",
    "        fig.add_subplot(rows, columns, 1)\n",
    "        plt.imshow((x1[imgIdx, 8:-8, 8:-8, :]+1)/2)\n",
    "        fig.add_subplot(rows, columns, 2)\n",
    "        plt.imshow((x2[imgIdx, 8:-8, 8:-8, :]+1)/2)\n",
    "        fig.add_subplot(rows, columns, 3)\n",
    "        plt.imshow((mask[imgIdx, :, :, 0]+1)/2)\n",
    "        fig.add_subplot(rows, columns, 4)\n",
    "        plt.imshow((layer_output[0, :, :, 0]+1)/2)\n",
    "        fig.add_subplot(rows, columns, 5)\n",
    "        plt.imshow((prediction[0, :, :, :]+1)/2)\n",
    "        fig.add_subplot(rows, columns, 6)\n",
    "        plt.imshow((y[imgIdx, :, :, :]+1)/2)\n",
    "        plt.show()\n",
    "        fig.savefig(dataPath+\"results/fugan_ep{}.png\".format(e))"
   ]
  },
  {
   "cell_type": "code",
   "execution_count": null,
   "metadata": {},
   "outputs": [],
   "source": [
    "# np.save('x_test1.npy', x_test1)\n",
    "# np.save('x_test2.npy', x_test2)\n",
    "# np.save('y_test.npy', y_test)\n",
    "# np.save('prediction.npy', prediction[0])\n",
    "# np.save('layer_output.npy', layer_output)\n",
    "# np.save('mask_test.npy', mask_test)"
   ]
  },
  {
   "cell_type": "code",
   "execution_count": null,
   "metadata": {},
   "outputs": [],
   "source": [
    "# # ssimList = []\n",
    "# # ada = 999\n",
    "# for imgIdx in range(1000):\n",
    "# #     ssim = SSIM(y_test[imgIdx, :, :, :], prediction[0][imgIdx, :, :, :], data_range=1, multichannel=True)\n",
    "# #     ssimList.append(ssim)\n",
    "# #     ssim1 = SSIM(y_test[imgIdx, :, :, :], x_test1[imgIdx, 8:-8, 8:-8, :], data_range=1, multichannel=True)\n",
    "# #     ssim2 = SSIM(y_test[imgIdx, :, :, :], x_test2[imgIdx, 8:-8, 8:-8, :], data_range=1, multichannel=True)\n",
    "# #     print(ssim1)\n",
    "# #     print(ssim2)\n",
    "# #     print(ssim)\n",
    "# #    imgIdx = 312\n",
    "#     fig=plt.figure(figsize=(12, 12))\n",
    "#     columns = 6\n",
    "#     rows = 1\n",
    "#     fig.add_subplot(rows, columns, 1)\n",
    "#     plt.imshow(x_test1[imgIdx, 8:-8, 8:-8, :])\n",
    "#     fig.add_subplot(rows, columns, 2)\n",
    "#     plt.imshow(x_test2[imgIdx, 8:-8, 8:-8, :])\n",
    "#     fig.add_subplot(rows, columns, 3)\n",
    "#     plt.imshow(layer_output[imgIdx, :, :, 0])\n",
    "#     fig.add_subplot(rows, columns, 4)\n",
    "#     plt.imshow(prediction[0][imgIdx, :, :, :])\n",
    "#     fig.add_subplot(rows, columns, 5)\n",
    "#     plt.imshow(y_test[imgIdx, :, :, :])\n",
    "#     fig.add_subplot(rows, columns, 6)\n",
    "#     plt.imshow(mask_test[imgIdx, :, :, 0])\n",
    "#     plt.show()\n",
    "#     fig.savefig(dataPath+\"results/{}.png\".format(imgIdx))"
   ]
  },
  {
   "cell_type": "code",
   "execution_count": null,
   "metadata": {},
   "outputs": [],
   "source": [
    "# plt.hist(ssimList, bins = 20)"
   ]
  },
  {
   "cell_type": "code",
   "execution_count": null,
   "metadata": {},
   "outputs": [],
   "source": [
    "# generator.save('generator.h5')"
   ]
  }
 ],
 "metadata": {
  "kernelspec": {
   "display_name": "Python 3",
   "language": "python",
   "name": "python3"
  },
  "language_info": {
   "codemirror_mode": {
    "name": "ipython",
    "version": 3
   },
   "file_extension": ".py",
   "mimetype": "text/x-python",
   "name": "python",
   "nbconvert_exporter": "python",
   "pygments_lexer": "ipython3",
   "version": "3.6.7"
  },
  "widgets": {
   "application/vnd.jupyter.widget-state+json": {
    "state": {},
    "version_major": 2,
    "version_minor": 0
   }
  }
 },
 "nbformat": 4,
 "nbformat_minor": 2
}
